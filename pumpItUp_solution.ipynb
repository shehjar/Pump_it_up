{
 "cells": [
  {
   "cell_type": "code",
   "execution_count": 1,
   "metadata": {},
   "outputs": [],
   "source": [
    "# Accessing Libraries\n",
    "%matplotlib inline\n",
    "import pandas as pd\n",
    "import numpy as np\n",
    "import os\n",
    "import matplotlib.pyplot as plt\n",
    "from sklearn.preprocessing import LabelEncoder, OneHotEncoder\n",
    "from sklearn.model_selection import train_test_split, GridSearchCV, cross_validate, KFold\n",
    "from sklearn.metrics import accuracy_score, make_scorer\n",
    "from sklearn.ensemble import RandomForestClassifier, GradientBoostingClassifier\n",
    "from catboost import Pool, CatBoostClassifier, cv\n",
    "import lightgbm as lgb"
   ]
  },
  {
   "cell_type": "code",
   "execution_count": 2,
   "metadata": {},
   "outputs": [],
   "source": [
    "# Get data\n",
    "curdir = os.getcwd()\n",
    "dataFolder = os.path.join(curdir, 'Data')\n",
    "\n",
    "training_features = pd.read_csv(os.path.join(dataFolder, 'Training_set_values.csv'))\n",
    "training_labels = pd.read_csv(os.path.join(dataFolder, 'Training_set_labels.csv'))\n",
    "test_features = pd.read_csv(os.path.join(dataFolder, 'Test_set_values.csv'))"
   ]
  },
  {
   "cell_type": "code",
   "execution_count": 3,
   "metadata": {},
   "outputs": [],
   "source": [
    "# Merge training data\n",
    "training_data = pd.merge(training_features, training_labels, on='id')"
   ]
  },
  {
   "cell_type": "code",
   "execution_count": 4,
   "metadata": {},
   "outputs": [
    {
     "name": "stdout",
     "output_type": "stream",
     "text": [
      "<class 'pandas.core.frame.DataFrame'>\n",
      "Int64Index: 59400 entries, 0 to 59399\n",
      "Data columns (total 41 columns):\n",
      "id                       59400 non-null int64\n",
      "amount_tsh               59400 non-null float64\n",
      "date_recorded            59400 non-null object\n",
      "funder                   55765 non-null object\n",
      "gps_height               59400 non-null int64\n",
      "installer                55745 non-null object\n",
      "longitude                59400 non-null float64\n",
      "latitude                 59400 non-null float64\n",
      "wpt_name                 59400 non-null object\n",
      "num_private              59400 non-null int64\n",
      "basin                    59400 non-null object\n",
      "subvillage               59029 non-null object\n",
      "region                   59400 non-null object\n",
      "region_code              59400 non-null int64\n",
      "district_code            59400 non-null int64\n",
      "lga                      59400 non-null object\n",
      "ward                     59400 non-null object\n",
      "population               59400 non-null int64\n",
      "public_meeting           56066 non-null object\n",
      "recorded_by              59400 non-null object\n",
      "scheme_management        55523 non-null object\n",
      "scheme_name              31234 non-null object\n",
      "permit                   56344 non-null object\n",
      "construction_year        59400 non-null int64\n",
      "extraction_type          59400 non-null object\n",
      "extraction_type_group    59400 non-null object\n",
      "extraction_type_class    59400 non-null object\n",
      "management               59400 non-null object\n",
      "management_group         59400 non-null object\n",
      "payment                  59400 non-null object\n",
      "payment_type             59400 non-null object\n",
      "water_quality            59400 non-null object\n",
      "quality_group            59400 non-null object\n",
      "quantity                 59400 non-null object\n",
      "quantity_group           59400 non-null object\n",
      "source                   59400 non-null object\n",
      "source_type              59400 non-null object\n",
      "source_class             59400 non-null object\n",
      "waterpoint_type          59400 non-null object\n",
      "waterpoint_type_group    59400 non-null object\n",
      "status_group             59400 non-null object\n",
      "dtypes: float64(3), int64(7), object(31)\n",
      "memory usage: 19.0+ MB\n"
     ]
    }
   ],
   "source": [
    "# Traning data info\n",
    "training_data.info()"
   ]
  },
  {
   "cell_type": "code",
   "execution_count": 5,
   "metadata": {},
   "outputs": [
    {
     "data": {
      "text/plain": [
       "id                           0\n",
       "amount_tsh                   0\n",
       "date_recorded                0\n",
       "funder                    3635\n",
       "gps_height                   0\n",
       "installer                 3655\n",
       "longitude                    0\n",
       "latitude                     0\n",
       "wpt_name                     0\n",
       "num_private                  0\n",
       "basin                        0\n",
       "subvillage                 371\n",
       "region                       0\n",
       "region_code                  0\n",
       "district_code                0\n",
       "lga                          0\n",
       "ward                         0\n",
       "population                   0\n",
       "public_meeting            3334\n",
       "recorded_by                  0\n",
       "scheme_management         3877\n",
       "scheme_name              28166\n",
       "permit                    3056\n",
       "construction_year            0\n",
       "extraction_type              0\n",
       "extraction_type_group        0\n",
       "extraction_type_class        0\n",
       "management                   0\n",
       "management_group             0\n",
       "payment                      0\n",
       "payment_type                 0\n",
       "water_quality                0\n",
       "quality_group                0\n",
       "quantity                     0\n",
       "quantity_group               0\n",
       "source                       0\n",
       "source_type                  0\n",
       "source_class                 0\n",
       "waterpoint_type              0\n",
       "waterpoint_type_group        0\n",
       "status_group                 0\n",
       "dtype: int64"
      ]
     },
     "execution_count": 5,
     "metadata": {},
     "output_type": "execute_result"
    }
   ],
   "source": [
    "#print(\"training features =\", len(training_features.columns))\n",
    "#training_features.columns\n",
    "# Show how many columns are null\n",
    "training_data.isnull().sum()"
   ]
  },
  {
   "cell_type": "code",
   "execution_count": 6,
   "metadata": {},
   "outputs": [
    {
     "data": {
      "text/plain": [
       "id                          0\n",
       "amount_tsh                  0\n",
       "date_recorded               0\n",
       "funder                    869\n",
       "gps_height                  0\n",
       "installer                 877\n",
       "longitude                   0\n",
       "latitude                    0\n",
       "wpt_name                    0\n",
       "num_private                 0\n",
       "basin                       0\n",
       "subvillage                 99\n",
       "region                      0\n",
       "region_code                 0\n",
       "district_code               0\n",
       "lga                         0\n",
       "ward                        0\n",
       "population                  0\n",
       "public_meeting            821\n",
       "recorded_by                 0\n",
       "scheme_management         969\n",
       "scheme_name              7092\n",
       "permit                    737\n",
       "construction_year           0\n",
       "extraction_type             0\n",
       "extraction_type_group       0\n",
       "extraction_type_class       0\n",
       "management                  0\n",
       "management_group            0\n",
       "payment                     0\n",
       "payment_type                0\n",
       "water_quality               0\n",
       "quality_group               0\n",
       "quantity                    0\n",
       "quantity_group              0\n",
       "source                      0\n",
       "source_type                 0\n",
       "source_class                0\n",
       "waterpoint_type             0\n",
       "waterpoint_type_group       0\n",
       "dtype: int64"
      ]
     },
     "execution_count": 6,
     "metadata": {},
     "output_type": "execute_result"
    }
   ],
   "source": [
    "# null items in the test data\n",
    "test_features.isnull().sum()"
   ]
  },
  {
   "cell_type": "code",
   "execution_count": 7,
   "metadata": {},
   "outputs": [],
   "source": [
    "# fill null items with -999 for test and training data\n",
    "training_data.fillna(\"nan\", inplace=True)\n",
    "test_features.fillna(\"nan\", inplace=True)"
   ]
  },
  {
   "cell_type": "code",
   "execution_count": 8,
   "metadata": {},
   "outputs": [
    {
     "data": {
      "text/plain": [
       "id                       0\n",
       "amount_tsh               0\n",
       "date_recorded            0\n",
       "funder                   0\n",
       "gps_height               0\n",
       "installer                0\n",
       "longitude                0\n",
       "latitude                 0\n",
       "wpt_name                 0\n",
       "num_private              0\n",
       "basin                    0\n",
       "subvillage               0\n",
       "region                   0\n",
       "region_code              0\n",
       "district_code            0\n",
       "lga                      0\n",
       "ward                     0\n",
       "population               0\n",
       "public_meeting           0\n",
       "recorded_by              0\n",
       "scheme_management        0\n",
       "scheme_name              0\n",
       "permit                   0\n",
       "construction_year        0\n",
       "extraction_type          0\n",
       "extraction_type_group    0\n",
       "extraction_type_class    0\n",
       "management               0\n",
       "management_group         0\n",
       "payment                  0\n",
       "payment_type             0\n",
       "water_quality            0\n",
       "quality_group            0\n",
       "quantity                 0\n",
       "quantity_group           0\n",
       "source                   0\n",
       "source_type              0\n",
       "source_class             0\n",
       "waterpoint_type          0\n",
       "waterpoint_type_group    0\n",
       "status_group             0\n",
       "dtype: int64"
      ]
     },
     "execution_count": 8,
     "metadata": {},
     "output_type": "execute_result"
    }
   ],
   "source": [
    "training_data.isnull().sum()"
   ]
  },
  {
   "cell_type": "code",
   "execution_count": 9,
   "metadata": {},
   "outputs": [],
   "source": [
    "# Setting the chosen features from the training data\n",
    "chosen_features = []"
   ]
  },
  {
   "cell_type": "code",
   "execution_count": 10,
   "metadata": {},
   "outputs": [],
   "source": [
    "# Creating x and y data for training\n",
    "#x = training_data.drop(['status_group', 'id'], axis = 1)\n",
    "#y = training_data.status_group\n",
    "#status_gp_dict = {'functional': 0, 'functional needs repair': 1, 'non functional': 3}\n",
    "#reverse_status_dict = {0: 'functional', 1:'functional needs repair', 3: 'non functional'}\n",
    "#replace class values to integer dictionary\n",
    "#y = y.replace(status_gp_dict)\n",
    "#y"
   ]
  },
  {
   "cell_type": "code",
   "execution_count": 11,
   "metadata": {},
   "outputs": [],
   "source": [
    "# bar plot function\n",
    "def barPlot(df, columnStr):\n",
    "    cross_tab = pd.crosstab(index=df[columnStr], columns=df[\"status_group\"])\n",
    "    cross_tab.plot(kind='bar', stacked = True)\n",
    "\n",
    "#feature editing\n",
    "def feature_edit(df, column):\n",
    "    str_installer = df[column].astype('str')\n",
    "    str_installer_3 = [s[:3].lower() for s in str_installer]\n",
    "    cat_installer_3 = pd.Categorical(str_installer_3)\n",
    "    new_df = pd.DataFrame({'installer_3':cat_installer_3})\n",
    "    new_df.installer_3 = new_df.installer_3.cat.add_categories('others')\n",
    "    #new_df.installer_3 = new_df.installer_3.replace({'nan':'others'})\n",
    "    sort_cat = new_df.installer_3.value_counts().keys()[:15]\n",
    "    mask = np.logical_not(new_df.installer_3.isin(sort_cat))\n",
    "    new_df.installer_3.loc[mask] = 'others'\n",
    "    new_df.installer_3 = new_df.installer_3.cat.remove_unused_categories()\n",
    "    return new_df.installer_3"
   ]
  },
  {
   "cell_type": "code",
   "execution_count": 12,
   "metadata": {},
   "outputs": [
    {
     "data": {
      "image/png": "[encoded data removed]",
      "text/plain": [
       "<matplotlib.figure.Figure at 0x21fee8077f0>"
      ]
     },
     "metadata": {},
     "output_type": "display_data"
    }
   ],
   "source": [
    "# Frequency plot for funder\n",
    "barPlot(training_data, \"funder\")"
   ]
  },
  {
   "cell_type": "code",
   "execution_count": 13,
   "metadata": {},
   "outputs": [
    {
     "data": {
      "image/png": "[encoded data removed]",
      "text/plain": [
       "<matplotlib.figure.Figure at 0x21ffb5fa780>"
      ]
     },
     "metadata": {},
     "output_type": "display_data"
    }
   ],
   "source": [
    "training_data['funder_3'] = feature_edit(training_data, 'funder')\n",
    "barPlot(training_data, 'funder_3')"
   ]
  },
  {
   "cell_type": "code",
   "execution_count": 14,
   "metadata": {},
   "outputs": [],
   "source": [
    "# Doing the same thing for test data\n",
    "#test_features.funder.value_counts()\n",
    "char_str = test_features.funder.astype('str')\n",
    "char_str = [f[:3].lower() for f in char_str]\n",
    "cat_known = training_data.funder_3.cat.categories.tolist()\n",
    "new_char_str = []\n",
    "for char in char_str:\n",
    "    if char in cat_known:\n",
    "        new_char_str.append(char)\n",
    "    else:\n",
    "        new_char_str.append('others')\n",
    "funder_data = pd.Categorical(new_char_str)\n",
    "test_features['funder_3'] = pd.Series(funder_data, index=test_features.index)"
   ]
  },
  {
   "cell_type": "code",
   "execution_count": 15,
   "metadata": {},
   "outputs": [
    {
     "data": {
      "text/plain": [
       "others    6894\n",
       "gov       2223\n",
       "nan        869\n",
       "dan        796\n",
       "wor        678\n",
       "hes        584\n",
       "kkk        405\n",
       "rws        337\n",
       "uni        302\n",
       "pri        300\n",
       "tas        292\n",
       "wat        291\n",
       "dhv        255\n",
       "dws        218\n",
       "fin        212\n",
       "dis        194\n",
       "Name: funder_3, dtype: int64"
      ]
     },
     "execution_count": 15,
     "metadata": {},
     "output_type": "execute_result"
    }
   ],
   "source": [
    "test_features['funder_3'].value_counts()"
   ]
  },
  {
   "cell_type": "code",
   "execution_count": 16,
   "metadata": {},
   "outputs": [],
   "source": [
    "# Adding funder_3 in the list of features\n",
    "if 'funder_3' not in chosen_features:\n",
    "    chosen_features.append('funder_3')"
   ]
  },
  {
   "cell_type": "code",
   "execution_count": 17,
   "metadata": {},
   "outputs": [
    {
     "data": {
      "image/png": "[encoded data removed]",
      "text/plain": [
       "<matplotlib.figure.Figure at 0x21ffd281390>"
      ]
     },
     "metadata": {},
     "output_type": "display_data"
    }
   ],
   "source": [
    "training_data['installer_3'] = feature_edit(training_data, 'installer')\n",
    "barPlot(training_data, 'installer_3')"
   ]
  },
  {
   "cell_type": "code",
   "execution_count": 18,
   "metadata": {},
   "outputs": [],
   "source": [
    "# Doing the same for test data\n",
    "char_str = test_features.installer.astype('str')\n",
    "char_str = [f[:3].lower() for f in char_str]\n",
    "cat_known = training_data.installer_3.cat.categories.tolist()\n",
    "new_char_str = []\n",
    "for char in char_str:\n",
    "    if char in cat_known:\n",
    "        new_char_str.append(char)\n",
    "    else:\n",
    "        new_char_str.append('others')\n",
    "installer_data = pd.Categorical(new_char_str)\n",
    "test_features['installer_3'] = pd.Series(installer_data, index=test_features.index)"
   ]
  },
  {
   "cell_type": "code",
   "execution_count": 19,
   "metadata": {},
   "outputs": [
    {
     "data": {
      "text/plain": [
       "others    5550\n",
       "dwe       4359\n",
       "nan        878\n",
       "gov        677\n",
       "com        441\n",
       "dan        418\n",
       "hes        374\n",
       "dis        310\n",
       "rwe        309\n",
       "kkk        294\n",
       "wor        253\n",
       "cen        241\n",
       "0          203\n",
       "fin        202\n",
       "tcr        186\n",
       "ces        155\n",
       "Name: installer_3, dtype: int64"
      ]
     },
     "execution_count": 19,
     "metadata": {},
     "output_type": "execute_result"
    }
   ],
   "source": [
    "test_features['installer_3'].value_counts()"
   ]
  },
  {
   "cell_type": "code",
   "execution_count": 20,
   "metadata": {},
   "outputs": [],
   "source": [
    "#adding installer_3\n",
    "if 'installer_3' not in chosen_features:\n",
    "    chosen_features.append('installer_3')"
   ]
  },
  {
   "cell_type": "code",
   "execution_count": 21,
   "metadata": {},
   "outputs": [
    {
     "name": "stdout",
     "output_type": "stream",
     "text": [
      "63.0740740741 % of instances are greater than 0\n"
     ]
    },
    {
     "data": {
      "image/png": "[encoded data removed]",
      "text/plain": [
       "<matplotlib.figure.Figure at 0x21ff9df76a0>"
      ]
     },
     "metadata": {},
     "output_type": "display_data"
    }
   ],
   "source": [
    "# histogram for gps_height\n",
    "gps = training_data.gps_height[training_data.gps_height > 0]\n",
    "hist_plot = plt.hist(gps)\n",
    "print(np.sum(hist_plot[0])/training_data.gps_height.size*100, '% of instances are greater than 0')"
   ]
  },
  {
   "cell_type": "code",
   "execution_count": 22,
   "metadata": {},
   "outputs": [],
   "source": [
    "# choosing gps_height\n",
    "if 'gps_height' not in chosen_features:\n",
    "    chosen_features.append('gps_height')"
   ]
  },
  {
   "cell_type": "code",
   "execution_count": 23,
   "metadata": {},
   "outputs": [
    {
     "data": {
      "text/plain": [
       "count    59400.000000\n",
       "mean        34.077427\n",
       "std          6.567432\n",
       "min          0.000000\n",
       "25%         33.090347\n",
       "50%         34.908743\n",
       "75%         37.178387\n",
       "max         40.345193\n",
       "Name: longitude, dtype: float64"
      ]
     },
     "execution_count": 23,
     "metadata": {},
     "output_type": "execute_result"
    }
   ],
   "source": [
    "training_data['longitude'].describe()"
   ]
  },
  {
   "cell_type": "code",
   "execution_count": 24,
   "metadata": {},
   "outputs": [
    {
     "data": {
      "text/plain": [
       "count    5.940000e+04\n",
       "mean    -5.706033e+00\n",
       "std      2.946019e+00\n",
       "min     -1.164944e+01\n",
       "25%     -8.540621e+00\n",
       "50%     -5.021597e+00\n",
       "75%     -3.326156e+00\n",
       "max     -2.000000e-08\n",
       "Name: latitude, dtype: float64"
      ]
     },
     "execution_count": 24,
     "metadata": {},
     "output_type": "execute_result"
    }
   ],
   "source": [
    "training_data['latitude'].describe()"
   ]
  },
  {
   "cell_type": "code",
   "execution_count": 25,
   "metadata": {},
   "outputs": [
    {
     "data": {
      "text/plain": [
       "<matplotlib.collections.PathCollection at 0x21ffb48ae80>"
      ]
     },
     "execution_count": 25,
     "metadata": {},
     "output_type": "execute_result"
    },
    {
     "data": {
      "image/png": "[encoded data removed]",
      "text/plain": [
       "<matplotlib.figure.Figure at 0x21ff45662b0>"
      ]
     },
     "metadata": {},
     "output_type": "display_data"
    }
   ],
   "source": [
    "# Plotting longitude and latitude\n",
    "plt.scatter(training_data.longitude, training_data.latitude)"
   ]
  },
  {
   "cell_type": "code",
   "execution_count": 26,
   "metadata": {},
   "outputs": [],
   "source": [
    "# creating a function for the imputed Longitude and Latitude data\n",
    "df_region_DC = training_data.groupby(['region','district_code'])\n",
    "df_region = training_data.groupby('region')\n",
    "def LocationImputedSeries(df, df_region_DC, df_region):\n",
    "    Long_med_reg_DC = df_region_DC.longitude.median()\n",
    "    Lat_med_reg_DC = df_region_DC.latitude.median()\n",
    "    Long_med_reg = df_region.longitude.median()\n",
    "    Lat_med_reg = df_region.latitude.median()\n",
    "    # Zero indices\n",
    "    long_index = df.longitude.loc[np.absolute(df.longitude) < 0.001].keys().tolist()\n",
    "    lat_index = df.latitude.loc[np.absolute(df.latitude) < 0.001].keys().tolist()\n",
    "    long_data = df.longitude.tolist()\n",
    "    lat_data = df.latitude.tolist()\n",
    "    # Longitude:\n",
    "    for i in long_index:\n",
    "        if abs(long_data[i]) < 0.001:\n",
    "            reg = df.region.loc[i]\n",
    "            dist = df.district_code.loc[i]\n",
    "            long_data[i] = Long_med_reg_DC[(reg, dist)]\n",
    "            if abs(long_data[i]) < 0.001:\n",
    "                long_data[i] = Long_med_reg[reg]\n",
    "    # Latitude:\n",
    "    for i in lat_index:\n",
    "        if abs(lat_data[i]) < 0.001:\n",
    "            reg = df.region.loc[i]\n",
    "            dist = df.district_code.loc[i]\n",
    "            lat_data[i] = Lat_med_reg_DC[(reg, dist)]\n",
    "            if abs(lat_data[i]) < 0.001:\n",
    "                lat_data[i] = Lat_med_reg[reg]\n",
    "    return (long_data, lat_data)"
   ]
  },
  {
   "cell_type": "code",
   "execution_count": 27,
   "metadata": {},
   "outputs": [
    {
     "data": {
      "image/png": "[encoded data removed]",
      "text/plain": [
       "<matplotlib.figure.Figure at 0x21ffb46d7b8>"
      ]
     },
     "metadata": {},
     "output_type": "display_data"
    }
   ],
   "source": [
    "Long_data , Lat_data = LocationImputedSeries(training_data, df_region_DC, df_region)\n",
    "plt.scatter(Long_data, Lat_data)\n",
    "training_data['Longitude_new'] = pd.Series(Long_data, index=training_data.index)\n",
    "training_data['Latitude_new'] = pd.Series(Lat_data, index=training_data.index)"
   ]
  },
  {
   "cell_type": "code",
   "execution_count": 28,
   "metadata": {},
   "outputs": [
    {
     "data": {
      "image/png": "[encoded data removed]",
      "text/plain": [
       "<matplotlib.figure.Figure at 0x21ffb383a20>"
      ]
     },
     "metadata": {},
     "output_type": "display_data"
    }
   ],
   "source": [
    "Long_data, Lat_data = LocationImputedSeries(test_features, df_region_DC, df_region)\n",
    "plt.scatter(Long_data, Lat_data)\n",
    "test_features['Longitude_new'] = pd.Series(Long_data, index=test_features.index)\n",
    "test_features['Latitude_new'] = pd.Series(Lat_data, index=test_features.index)"
   ]
  },
  {
   "cell_type": "code",
   "execution_count": 29,
   "metadata": {},
   "outputs": [],
   "source": [
    "#choosing both latitude and longitude\n",
    "#chances of imputing the zeros too, but might do that for later\n",
    "if 'Latitude_new' not in chosen_features:\n",
    "    chosen_features.append('Latitude_new')\n",
    "if 'Longitude_new' not in chosen_features:\n",
    "    chosen_features.append('Longitude_new')\n",
    "if 'region_code' not in chosen_features:\n",
    "    chosen_features.append('region_code')\n",
    "if 'district_code' not in chosen_features:\n",
    "    chosen_features.append('district_code')"
   ]
  },
  {
   "cell_type": "code",
   "execution_count": 30,
   "metadata": {},
   "outputs": [
    {
     "data": {
      "text/plain": [
       "count     59400\n",
       "unique    37400\n",
       "top        none\n",
       "freq       3563\n",
       "Name: wpt_name, dtype: object"
      ]
     },
     "execution_count": 30,
     "metadata": {},
     "output_type": "execute_result"
    }
   ],
   "source": [
    "# Checking wpt_name\n",
    "training_data.wpt_name.describe()"
   ]
  },
  {
   "cell_type": "code",
   "execution_count": 31,
   "metadata": {},
   "outputs": [
    {
     "data": {
      "text/plain": [
       "Index(['id', 'amount_tsh', 'date_recorded', 'funder', 'gps_height',\n",
       "       'installer', 'longitude', 'latitude', 'wpt_name', 'num_private',\n",
       "       'basin', 'subvillage', 'region', 'region_code', 'district_code', 'lga',\n",
       "       'ward', 'population', 'public_meeting', 'recorded_by',\n",
       "       'scheme_management', 'scheme_name', 'permit', 'construction_year',\n",
       "       'extraction_type', 'extraction_type_group', 'extraction_type_class',\n",
       "       'management', 'management_group', 'payment', 'payment_type',\n",
       "       'water_quality', 'quality_group', 'quantity', 'quantity_group',\n",
       "       'source', 'source_type', 'source_class', 'waterpoint_type',\n",
       "       'waterpoint_type_group', 'status_group', 'funder_3', 'installer_3',\n",
       "       'Longitude_new', 'Latitude_new'],\n",
       "      dtype='object')"
      ]
     },
     "execution_count": 31,
     "metadata": {},
     "output_type": "execute_result"
    }
   ],
   "source": [
    "# just to remind ourselves with the columns\n",
    "training_data.columns"
   ]
  },
  {
   "cell_type": "code",
   "execution_count": 32,
   "metadata": {},
   "outputs": [
    {
     "name": "stdout",
     "output_type": "stream",
     "text": [
      "int64\n",
      "58643\n",
      "73\n"
     ]
    },
    {
     "data": {
      "text/plain": [
       "(array([  5.89890000e+04,   8.30000000e+01,   4.20000000e+01,\n",
       "          8.60000000e+01,   6.80000000e+01,   1.00000000e+01,\n",
       "          2.70000000e+01,   0.00000000e+00,   1.60000000e+01,\n",
       "          2.90000000e+01,   2.00000000e+01,   1.00000000e+00,\n",
       "          7.00000000e+00,   2.00000000e+00,   1.00000000e+00,\n",
       "          6.00000000e+00,   1.00000000e+00,   0.00000000e+00,\n",
       "          1.00000000e+00,   0.00000000e+00,   0.00000000e+00,\n",
       "          1.00000000e+00,   0.00000000e+00,   0.00000000e+00,\n",
       "          1.00000000e+00,   0.00000000e+00,   0.00000000e+00,\n",
       "          0.00000000e+00,   1.00000000e+00,   0.00000000e+00,\n",
       "          1.00000000e+00,   0.00000000e+00,   0.00000000e+00,\n",
       "          0.00000000e+00,   0.00000000e+00,   0.00000000e+00,\n",
       "          0.00000000e+00,   0.00000000e+00,   0.00000000e+00,\n",
       "          0.00000000e+00,   0.00000000e+00,   0.00000000e+00,\n",
       "          0.00000000e+00,   0.00000000e+00,   0.00000000e+00,\n",
       "          1.00000000e+00,   0.00000000e+00,   0.00000000e+00,\n",
       "          0.00000000e+00,   0.00000000e+00,   0.00000000e+00,\n",
       "          0.00000000e+00,   0.00000000e+00,   0.00000000e+00,\n",
       "          0.00000000e+00,   0.00000000e+00,   0.00000000e+00,\n",
       "          0.00000000e+00,   0.00000000e+00,   0.00000000e+00,\n",
       "          0.00000000e+00,   0.00000000e+00,   0.00000000e+00,\n",
       "          0.00000000e+00,   0.00000000e+00,   0.00000000e+00,\n",
       "          1.00000000e+00,   1.00000000e+00,   0.00000000e+00,\n",
       "          1.00000000e+00,   0.00000000e+00,   0.00000000e+00,\n",
       "          0.00000000e+00,   0.00000000e+00,   0.00000000e+00,\n",
       "          1.00000000e+00,   0.00000000e+00,   0.00000000e+00,\n",
       "          0.00000000e+00,   0.00000000e+00,   0.00000000e+00,\n",
       "          0.00000000e+00,   0.00000000e+00,   0.00000000e+00,\n",
       "          0.00000000e+00,   0.00000000e+00,   0.00000000e+00,\n",
       "          0.00000000e+00,   0.00000000e+00,   0.00000000e+00,\n",
       "          0.00000000e+00,   0.00000000e+00,   0.00000000e+00,\n",
       "          0.00000000e+00,   0.00000000e+00,   0.00000000e+00,\n",
       "          0.00000000e+00,   0.00000000e+00,   0.00000000e+00,\n",
       "          0.00000000e+00,   0.00000000e+00,   0.00000000e+00,\n",
       "          0.00000000e+00,   0.00000000e+00,   0.00000000e+00,\n",
       "          0.00000000e+00,   0.00000000e+00,   0.00000000e+00,\n",
       "          0.00000000e+00,   0.00000000e+00,   0.00000000e+00,\n",
       "          0.00000000e+00,   0.00000000e+00,   0.00000000e+00,\n",
       "          0.00000000e+00,   0.00000000e+00,   0.00000000e+00,\n",
       "          0.00000000e+00,   0.00000000e+00,   0.00000000e+00,\n",
       "          0.00000000e+00,   0.00000000e+00,   0.00000000e+00,\n",
       "          0.00000000e+00,   0.00000000e+00,   0.00000000e+00,\n",
       "          0.00000000e+00,   0.00000000e+00,   0.00000000e+00,\n",
       "          0.00000000e+00,   0.00000000e+00,   0.00000000e+00,\n",
       "          0.00000000e+00,   0.00000000e+00,   0.00000000e+00,\n",
       "          0.00000000e+00,   0.00000000e+00,   0.00000000e+00,\n",
       "          0.00000000e+00,   0.00000000e+00,   1.00000000e+00,\n",
       "          0.00000000e+00,   0.00000000e+00,   0.00000000e+00,\n",
       "          0.00000000e+00,   0.00000000e+00,   0.00000000e+00,\n",
       "          0.00000000e+00,   0.00000000e+00,   0.00000000e+00,\n",
       "          0.00000000e+00,   0.00000000e+00,   0.00000000e+00,\n",
       "          0.00000000e+00,   0.00000000e+00,   0.00000000e+00,\n",
       "          0.00000000e+00,   0.00000000e+00,   0.00000000e+00,\n",
       "          0.00000000e+00,   0.00000000e+00,   0.00000000e+00,\n",
       "          0.00000000e+00,   0.00000000e+00,   0.00000000e+00,\n",
       "          0.00000000e+00,   0.00000000e+00,   0.00000000e+00,\n",
       "          0.00000000e+00,   0.00000000e+00,   0.00000000e+00,\n",
       "          0.00000000e+00,   0.00000000e+00,   0.00000000e+00,\n",
       "          0.00000000e+00,   0.00000000e+00,   0.00000000e+00,\n",
       "          1.00000000e+00]),\n",
       " array([   0,   10,   20,   30,   40,   50,   60,   70,   80,   90,  100,\n",
       "         110,  120,  130,  140,  150,  160,  170,  180,  190,  200,  210,\n",
       "         220,  230,  240,  250,  260,  270,  280,  290,  300,  310,  320,\n",
       "         330,  340,  350,  360,  370,  380,  390,  400,  410,  420,  430,\n",
       "         440,  450,  460,  470,  480,  490,  500,  510,  520,  530,  540,\n",
       "         550,  560,  570,  580,  590,  600,  610,  620,  630,  640,  650,\n",
       "         660,  670,  680,  690,  700,  710,  720,  730,  740,  750,  760,\n",
       "         770,  780,  790,  800,  810,  820,  830,  840,  850,  860,  870,\n",
       "         880,  890,  900,  910,  920,  930,  940,  950,  960,  970,  980,\n",
       "         990, 1000, 1010, 1020, 1030, 1040, 1050, 1060, 1070, 1080, 1090,\n",
       "        1100, 1110, 1120, 1130, 1140, 1150, 1160, 1170, 1180, 1190, 1200,\n",
       "        1210, 1220, 1230, 1240, 1250, 1260, 1270, 1280, 1290, 1300, 1310,\n",
       "        1320, 1330, 1340, 1350, 1360, 1370, 1380, 1390, 1400, 1410, 1420,\n",
       "        1430, 1440, 1450, 1460, 1470, 1480, 1490, 1500, 1510, 1520, 1530,\n",
       "        1540, 1550, 1560, 1570, 1580, 1590, 1600, 1610, 1620, 1630, 1640,\n",
       "        1650, 1660, 1670, 1680, 1690, 1700, 1710, 1720, 1730, 1740, 1750,\n",
       "        1760, 1770, 1780]),\n",
       " <a list of 178 Patch objects>)"
      ]
     },
     "execution_count": 32,
     "metadata": {},
     "output_type": "execute_result"
    },
    {
     "data": {
      "image/png": "[encoded data removed]",
      "text/plain": [
       "<matplotlib.figure.Figure at 0x21ffa30d748>"
      ]
     },
     "metadata": {},
     "output_type": "display_data"
    }
   ],
   "source": [
    "# Since we arent interested in wpt_name, we now go through num_private\n",
    "print(training_data.num_private.dtype)\n",
    "print(np.sum(training_data.num_private == 0))\n",
    "print(np.sum(training_data.num_private == 1))\n",
    "plt.hist(training_data.num_private, bins=np.arange(min(training_data.num_private), max(training_data.num_private) + 10, 10))\n",
    "# The data seems heavily centered at 0, with about 200 points greater than that"
   ]
  },
  {
   "cell_type": "code",
   "execution_count": 33,
   "metadata": {},
   "outputs": [],
   "source": [
    "if 'num_private' not in chosen_features:\n",
    "    chosen_features.append('num_private')"
   ]
  },
  {
   "cell_type": "code",
   "execution_count": 34,
   "metadata": {},
   "outputs": [
    {
     "data": {
      "image/png": "[encoded data removed]",
      "text/plain": [
       "<matplotlib.figure.Figure at 0x21ffa274da0>"
      ]
     },
     "metadata": {},
     "output_type": "display_data"
    }
   ],
   "source": [
    "#Now exploring basin\n",
    "pd.Categorical(training_data.basin)\n",
    "barPlot(training_data, 'basin')"
   ]
  },
  {
   "cell_type": "code",
   "execution_count": 35,
   "metadata": {},
   "outputs": [],
   "source": [
    "if 'basin' not in chosen_features:\n",
    "    chosen_features.append('basin')"
   ]
  },
  {
   "cell_type": "code",
   "execution_count": 36,
   "metadata": {},
   "outputs": [
    {
     "name": "stdout",
     "output_type": "stream",
     "text": [
      "count        59400\n",
      "unique       19288\n",
      "top       Madukani\n",
      "freq           508\n",
      "Name: subvillage, dtype: object\n",
      "Madukani      508\n",
      "Shuleni       506\n",
      "Majengo       502\n",
      "Kati          373\n",
      "nan           371\n",
      "Mtakuja       262\n",
      "Sokoni        232\n",
      "M             187\n",
      "Muungano      172\n",
      "Mbuyuni       164\n",
      "Mlimani       152\n",
      "Songambele    147\n",
      "Msikitini     134\n",
      "Miembeni      134\n",
      "1             132\n",
      "Name: subvillage, dtype: int64\n"
     ]
    },
    {
     "data": {
      "image/png": "[encoded data removed]",
      "text/plain": [
       "<matplotlib.figure.Figure at 0x21ffd51ac18>"
      ]
     },
     "metadata": {},
     "output_type": "display_data"
    }
   ],
   "source": [
    "pd.Categorical(training_data.subvillage)\n",
    "print(training_data.subvillage.describe())\n",
    "print(training_data.subvillage.value_counts()[:15])\n",
    "training_data['subvillage_3'] = feature_edit(training_data, 'subvillage')\n",
    "barPlot(training_data, 'subvillage_3')"
   ]
  },
  {
   "cell_type": "code",
   "execution_count": 37,
   "metadata": {},
   "outputs": [],
   "source": [
    "#if 'subvillage' not in chosen_features:\n",
    "#    chosen_features.append('subvillage')"
   ]
  },
  {
   "cell_type": "code",
   "execution_count": 38,
   "metadata": {},
   "outputs": [
    {
     "name": "stdout",
     "output_type": "stream",
     "text": [
      "count     59400\n",
      "unique     2092\n",
      "top       Igosi\n",
      "freq        307\n",
      "Name: ward, dtype: object\n"
     ]
    },
    {
     "data": {
      "image/png": "[encoded data removed]",
      "text/plain": [
       "<matplotlib.figure.Figure at 0x21ffa231f28>"
      ]
     },
     "metadata": {},
     "output_type": "display_data"
    }
   ],
   "source": [
    "barPlot(training_data, 'ward')\n",
    "print(training_data.ward.describe())"
   ]
  },
  {
   "cell_type": "code",
   "execution_count": 39,
   "metadata": {},
   "outputs": [],
   "source": [
    "if 'ward' not in chosen_features:\n",
    "    chosen_features.append('ward')"
   ]
  },
  {
   "cell_type": "code",
   "execution_count": 40,
   "metadata": {},
   "outputs": [
    {
     "data": {
      "text/plain": [
       "count      59400\n",
       "unique       125\n",
       "top       Njombe\n",
       "freq        2503\n",
       "Name: lga, dtype: object"
      ]
     },
     "execution_count": 40,
     "metadata": {},
     "output_type": "execute_result"
    },
    {
     "data": {
      "image/png": "[encoded data removed]",
      "text/plain": [
       "<matplotlib.figure.Figure at 0x21ffd2ca278>"
      ]
     },
     "metadata": {},
     "output_type": "display_data"
    }
   ],
   "source": [
    "# exploring lga\n",
    "barPlot(training_data, 'lga')\n",
    "training_data.lga.describe()"
   ]
  },
  {
   "cell_type": "code",
   "execution_count": 41,
   "metadata": {},
   "outputs": [],
   "source": [
    "if 'lga' not in chosen_features:\n",
    "    chosen_features.append('lga')"
   ]
  },
  {
   "cell_type": "code",
   "execution_count": 42,
   "metadata": {},
   "outputs": [],
   "source": [
    "chosen_features.extend(['extraction_type', 'extraction_type_class', 'management', 'management_group', \n",
    "                        'scheme_management', 'payment_type', 'water_quality', 'quantity', 'source', 'source_class',\n",
    "                        'construction_year', 'waterpoint_type'])"
   ]
  },
  {
   "cell_type": "code",
   "execution_count": 43,
   "metadata": {},
   "outputs": [
    {
     "name": "stdout",
     "output_type": "stream",
     "text": [
      "<class 'pandas.core.frame.DataFrame'>\n",
      "Int64Index: 59400 entries, 0 to 59399\n",
      "Data columns (total 23 columns):\n",
      "funder_3                 59400 non-null category\n",
      "installer_3              59400 non-null category\n",
      "gps_height               59400 non-null int64\n",
      "Latitude_new             59400 non-null float64\n",
      "Longitude_new            59400 non-null float64\n",
      "region_code              59400 non-null int64\n",
      "district_code            59400 non-null int64\n",
      "num_private              59400 non-null int64\n",
      "basin                    59400 non-null object\n",
      "ward                     59400 non-null object\n",
      "lga                      59400 non-null object\n",
      "extraction_type          59400 non-null object\n",
      "extraction_type_class    59400 non-null object\n",
      "management               59400 non-null object\n",
      "management_group         59400 non-null object\n",
      "scheme_management        59400 non-null object\n",
      "payment_type             59400 non-null object\n",
      "water_quality            59400 non-null object\n",
      "quantity                 59400 non-null object\n",
      "source                   59400 non-null object\n",
      "source_class             59400 non-null object\n",
      "construction_year        59400 non-null int64\n",
      "waterpoint_type          59400 non-null object\n",
      "dtypes: category(2), float64(2), int64(5), object(14)\n",
      "memory usage: 12.6+ MB\n"
     ]
    }
   ],
   "source": [
    "# printing all the features to be used-\n",
    "training_data[chosen_features].info()"
   ]
  },
  {
   "cell_type": "code",
   "execution_count": 44,
   "metadata": {},
   "outputs": [
    {
     "name": "stdout",
     "output_type": "stream",
     "text": [
      "<class 'pandas.core.frame.DataFrame'>\n",
      "Int64Index: 59400 entries, 0 to 59399\n",
      "Data columns (total 23 columns):\n",
      "funder_3                 59400 non-null category\n",
      "installer_3              59400 non-null category\n",
      "gps_height               59400 non-null int64\n",
      "Latitude_new             59400 non-null float64\n",
      "Longitude_new            59400 non-null float64\n",
      "region_code              59400 non-null int64\n",
      "district_code            59400 non-null int64\n",
      "num_private              59400 non-null int64\n",
      "basin                    59400 non-null object\n",
      "ward                     59400 non-null object\n",
      "lga                      59400 non-null object\n",
      "extraction_type          59400 non-null object\n",
      "extraction_type_class    59400 non-null object\n",
      "management               59400 non-null object\n",
      "management_group         59400 non-null object\n",
      "scheme_management        59400 non-null object\n",
      "payment_type             59400 non-null object\n",
      "water_quality            59400 non-null object\n",
      "quantity                 59400 non-null object\n",
      "source                   59400 non-null object\n",
      "source_class             59400 non-null object\n",
      "construction_year        59400 non-null int64\n",
      "waterpoint_type          59400 non-null object\n",
      "dtypes: category(2), float64(2), int64(5), object(14)\n",
      "memory usage: 12.6+ MB\n"
     ]
    }
   ],
   "source": [
    "# Forming the training data\n",
    "x = training_data[chosen_features]\n",
    "#x = pd.get_dummies(x)\n",
    "#print(len(x.columns))\n",
    "x.info()"
   ]
  },
  {
   "cell_type": "code",
   "execution_count": 45,
   "metadata": {},
   "outputs": [
    {
     "name": "stdout",
     "output_type": "stream",
     "text": [
      "<class 'pandas.core.frame.DataFrame'>\n",
      "RangeIndex: 14850 entries, 0 to 14849\n",
      "Data columns (total 23 columns):\n",
      "funder_3                 14850 non-null category\n",
      "installer_3              14850 non-null category\n",
      "gps_height               14850 non-null int64\n",
      "Latitude_new             14850 non-null float64\n",
      "Longitude_new            14850 non-null float64\n",
      "region_code              14850 non-null int64\n",
      "district_code            14850 non-null int64\n",
      "num_private              14850 non-null int64\n",
      "basin                    14850 non-null object\n",
      "ward                     14850 non-null object\n",
      "lga                      14850 non-null object\n",
      "extraction_type          14850 non-null object\n",
      "extraction_type_class    14850 non-null object\n",
      "management               14850 non-null object\n",
      "management_group         14850 non-null object\n",
      "scheme_management        14850 non-null object\n",
      "payment_type             14850 non-null object\n",
      "water_quality            14850 non-null object\n",
      "quantity                 14850 non-null object\n",
      "source                   14850 non-null object\n",
      "source_class             14850 non-null object\n",
      "construction_year        14850 non-null int64\n",
      "waterpoint_type          14850 non-null object\n",
      "dtypes: category(2), float64(2), int64(5), object(14)\n",
      "memory usage: 2.4+ MB\n"
     ]
    }
   ],
   "source": [
    "# Forming the test data\n",
    "test_x = test_features[chosen_features]\n",
    "#test_x = pd.get_dummies(test_x)\n",
    "#print(len(test_x.columns))\n",
    "test_x.info()"
   ]
  },
  {
   "cell_type": "code",
   "execution_count": 46,
   "metadata": {},
   "outputs": [
    {
     "name": "stdout",
     "output_type": "stream",
     "text": [
      "2360\n"
     ]
    }
   ],
   "source": [
    "x = pd.get_dummies(x)\n",
    "print(len(x.columns))\n"
   ]
  },
  {
   "cell_type": "code",
   "execution_count": 47,
   "metadata": {},
   "outputs": [
    {
     "name": "stdout",
     "output_type": "stream",
     "text": [
      "2225\n"
     ]
    }
   ],
   "source": [
    "test_x = pd.get_dummies(test_x)\n",
    "print(len(test_x.columns))"
   ]
  },
  {
   "cell_type": "code",
   "execution_count": 49,
   "metadata": {},
   "outputs": [
    {
     "name": "stdout",
     "output_type": "stream",
     "text": [
      "ward_Arash\n",
      "ward_Bombambili\n",
      "ward_Buganguzi\n",
      "ward_Bugomora\n",
      "ward_Bukembe\n",
      "ward_Bukoko\n",
      "ward_Bukumi\n",
      "ward_Bukwe\n",
      "ward_Bupu\n",
      "ward_Busongo\n",
      "ward_Bwakila Juu\n",
      "ward_Bwanga\n",
      "ward_Chamazi\n",
      "ward_Changaa\n",
      "ward_Chemchem\n",
      "ward_Chifunfu\n",
      "ward_Chikonji\n",
      "ward_Chinugulu\n",
      "ward_Daraja Mbili\n",
      "ward_Gisambalang\n",
      "ward_Gongoni\n",
      "ward_Gua\n",
      "ward_Hirbadaw\n",
      "ward_Ihowanza\n",
      "ward_Ijanija\n",
      "ward_Ikuti\n",
      "ward_Ikweha\n",
      "ward_Ilujamate\n",
      "ward_Iramba\n",
      "ward_Isuto\n",
      "ward_Itilo\n",
      "ward_Izia\n",
      "ward_Kagoma\n",
      "ward_Kaloleni\n",
      "ward_Kapalala\n",
      "ward_Karanga\n",
      "ward_Kasense\n",
      "ward_Kasimbu\n",
      "ward_Katandala\n",
      "ward_Kihangimahuka\n",
      "ward_Kilema  Kati\n",
      "ward_Kilimilire\n",
      "ward_Kimbe\n",
      "ward_Kingerikiti\n",
      "ward_Kining'inila\n",
      "ward_Kinungu\n",
      "ward_Kiomoni\n",
      "ward_Kirongo\n",
      "ward_Kitaya\n",
      "ward_Kitura\n",
      "ward_Kiyowela\n",
      "ward_Korongoni\n",
      "ward_Kwamkonje\n",
      "ward_Kwamsisi\n",
      "ward_Kwasunga\n",
      "ward_Kyebitembe\n",
      "ward_Laghanga\n",
      "ward_Langali\n",
      "ward_Levolosi\n",
      "ward_Linda\n",
      "ward_Loibor Soit\n",
      "ward_Longuo\n",
      "ward_Luwalaje\n",
      "ward_Mafinzi\n",
      "ward_Magindu\n",
      "ward_Maguu\n",
      "ward_Makiba\n",
      "ward_Makojo\n",
      "ward_Makuru\n",
      "ward_Makutopora\n",
      "ward_Malambo\n",
      "ward_Malibwi\n",
      "ward_Mandarawe\n",
      "ward_Manwanga\n",
      "ward_Marui\n",
      "ward_Maruku\n",
      "ward_Masaba\n",
      "ward_Masagati\n",
      "ward_Matarawe\n",
      "ward_Matwiga\n",
      "ward_Maweni\n",
      "ward_Mawenzi\n",
      "ward_Mbulu Urban\n",
      "ward_Membe\n",
      "ward_Mhande\n",
      "ward_Mhonda\n",
      "ward_Mikoni\n",
      "ward_Milola\n",
      "ward_Minyughe\n",
      "ward_Minziro\n",
      "ward_Mizibaziba\n",
      "ward_Mkwedu\n",
      "ward_Mlembwe\n",
      "ward_Mlimani\n",
      "ward_Mpalanga\n",
      "ward_Mpamantwa\n",
      "ward_Mpinji\n",
      "ward_Mpondo\n",
      "ward_Mshangano\n",
      "ward_Mtae\n",
      "ward_Mtindiro\n",
      "ward_Muhutwe\n",
      "ward_Murongo\n",
      "ward_Musa\n",
      "ward_Mwangoi\n",
      "ward_Mwembesongo\n",
      "ward_Ngulu\n",
      "ward_Nkome\n",
      "ward_Nyamalimbe\n",
      "ward_Nyamato\n",
      "ward_Nyamtinga\n",
      "ward_Oldonyo Sambu\n",
      "ward_Olorien\n",
      "ward_Pangani Magharibi\n",
      "ward_Pasiansi\n",
      "ward_Rasbura\n",
      "ward_Roche\n",
      "ward_Rusimbi\n",
      "ward_Rutamba\n",
      "ward_Sagata\n",
      "ward_Sanzawa\n",
      "ward_Saunyi\n",
      "ward_Semembela\n",
      "ward_Shabaka\n",
      "ward_Sigili\n",
      "ward_Sigino\n",
      "ward_Sombetini\n",
      "ward_Sungwisi\n",
      "ward_Suruke\n",
      "ward_Tambukareli\n",
      "ward_Themi\n",
      "ward_Tunduma\n",
      "ward_Ukata\n",
      "ward_Urughu\n",
      "ward_Urwira\n",
      "ward_Usagali\n",
      "ward_Usisya\n",
      "ward_Uwanja wa Ndege\n",
      "ward_Vugiri\n",
      "extraction_type_other - mkulima/shinyanga\n",
      "scheme_management_None\n"
     ]
    }
   ],
   "source": [
    "x_columns_list = x.columns.tolist()\n",
    "test_x_columns_list = test_x.columns.tolist()\n",
    "for elem in x_columns_list:\n",
    "    if elem not in test_x_columns_list:\n",
    "        print(elem)\n",
    "#mask = x_columns_list not in test_x_columns_list\n",
    "#print(mask)"
   ]
  },
  {
   "cell_type": "code",
   "execution_count": 50,
   "metadata": {},
   "outputs": [
    {
     "data": {
      "text/plain": [
       "23603    None\n",
       "Name: scheme_management, dtype: object"
      ]
     },
     "execution_count": 50,
     "metadata": {},
     "output_type": "execute_result"
    }
   ],
   "source": [
    "training_data.scheme_management[training_data.scheme_management == 'None']"
   ]
  },
  {
   "cell_type": "code",
   "execution_count": 51,
   "metadata": {},
   "outputs": [
    {
     "data": {
      "text/plain": [
       "36124    other - mkulima/shinyanga\n",
       "52144    other - mkulima/shinyanga\n",
       "Name: extraction_type, dtype: object"
      ]
     },
     "execution_count": 51,
     "metadata": {},
     "output_type": "execute_result"
    }
   ],
   "source": [
    "training_data.extraction_type[training_data.extraction_type == 'other - mkulima/shinyanga']"
   ]
  },
  {
   "cell_type": "code",
   "execution_count": 52,
   "metadata": {},
   "outputs": [
    {
     "name": "stderr",
     "output_type": "stream",
     "text": [
      "C:\\Users\\kauls\\AppData\\Local\\conda\\conda\\envs\\tensorflow\\lib\\site-packages\\ipykernel_launcher.py:4: SettingWithCopyWarning: \n",
      "A value is trying to be set on a copy of a slice from a DataFrame.\n",
      "Try using .loc[row_indexer,col_indexer] = value instead\n",
      "\n",
      "See the caveats in the documentation: http://pandas.pydata.org/pandas-docs/stable/indexing.html#indexing-view-versus-copy\n",
      "  after removing the cwd from sys.path.\n",
      "C:\\Users\\kauls\\AppData\\Local\\conda\\conda\\envs\\tensorflow\\lib\\site-packages\\ipykernel_launcher.py:5: SettingWithCopyWarning: \n",
      "A value is trying to be set on a copy of a slice from a DataFrame.\n",
      "Try using .loc[row_indexer,col_indexer] = value instead\n",
      "\n",
      "See the caveats in the documentation: http://pandas.pydata.org/pandas-docs/stable/indexing.html#indexing-view-versus-copy\n",
      "  \"\"\"\n"
     ]
    }
   ],
   "source": [
    "# need to put every dataset in one Dataframe and then separate according to a row\n",
    "x = training_data[chosen_features]\n",
    "test_x = test_features[chosen_features]\n",
    "x['split'] = pd.Series(np.ones(len(x.index)))\n",
    "test_x['split'] = pd.Series(np.zeros(len(test_x.index)))"
   ]
  },
  {
   "cell_type": "code",
   "execution_count": 56,
   "metadata": {},
   "outputs": [
    {
     "name": "stdout",
     "output_type": "stream",
     "text": [
      "<class 'pandas.core.frame.DataFrame'>\n",
      "Int64Index: 74250 entries, 0 to 14849\n",
      "Data columns (total 24 columns):\n",
      "funder_3                 74250 non-null category\n",
      "installer_3              74250 non-null category\n",
      "gps_height               74250 non-null int64\n",
      "Latitude_new             74250 non-null float64\n",
      "Longitude_new            74250 non-null float64\n",
      "region_code              74250 non-null int64\n",
      "district_code            74250 non-null int64\n",
      "num_private              74250 non-null int64\n",
      "basin                    74250 non-null object\n",
      "ward                     74250 non-null object\n",
      "lga                      74250 non-null object\n",
      "extraction_type          74250 non-null object\n",
      "extraction_type_class    74250 non-null object\n",
      "management               74250 non-null object\n",
      "management_group         74250 non-null object\n",
      "scheme_management        74250 non-null object\n",
      "payment_type             74250 non-null object\n",
      "water_quality            74250 non-null object\n",
      "quantity                 74250 non-null object\n",
      "source                   74250 non-null object\n",
      "source_class             74250 non-null object\n",
      "construction_year        74250 non-null int64\n",
      "waterpoint_type          74250 non-null object\n",
      "split                    74250 non-null float64\n",
      "dtypes: category(2), float64(3), int64(5), object(14)\n",
      "memory usage: 13.2+ MB\n"
     ]
    }
   ],
   "source": [
    "data = pd.concat([x, test_x])\n",
    "data.info()"
   ]
  },
  {
   "cell_type": "code",
   "execution_count": 57,
   "metadata": {},
   "outputs": [],
   "source": [
    "# Doing get dummies to get all the required columns\n",
    "Total_Data = pd.get_dummies(data)\n",
    "training_data = Total_Data[Total_Data.split == 1]\n",
    "testing_data = Total_Data[Total_Data.split == 0]"
   ]
  },
  {
   "cell_type": "code",
   "execution_count": 58,
   "metadata": {},
   "outputs": [
    {
     "name": "stdout",
     "output_type": "stream",
     "text": [
      "(59400, 2367)\n",
      "(14850, 2367)\n"
     ]
    }
   ],
   "source": [
    "print(training_data.shape)\n",
    "print(testing_data.shape)"
   ]
  },
  {
   "cell_type": "code",
   "execution_count": 67,
   "metadata": {},
   "outputs": [
    {
     "name": "stdout",
     "output_type": "stream",
     "text": [
      "['functional' 'functional needs repair' 'non functional']\n"
     ]
    }
   ],
   "source": [
    "y = training_labels.status_group\n",
    "LEncoder = LabelEncoder()\n",
    "LEncoder.fit(y)\n",
    "labels = LEncoder.transform(y)\n",
    "print(LEncoder.classes_)\n",
    "x = training_data.as_matrix()"
   ]
  },
  {
   "cell_type": "code",
   "execution_count": 68,
   "metadata": {},
   "outputs": [
    {
     "name": "stderr",
     "output_type": "stream",
     "text": [
      "C:\\Users\\kauls\\AppData\\Local\\conda\\conda\\envs\\tensorflow\\lib\\site-packages\\sklearn\\model_selection\\_split.py:2026: FutureWarning: From version 0.21, test_size will always complement train_size unless both are specified.\n",
      "  FutureWarning)\n"
     ]
    }
   ],
   "source": [
    "# Split training and validation data\n",
    "X_train, X_valid, y_train, y_valid = train_test_split(x, labels, train_size=0.8, random_state=42)"
   ]
  },
  {
   "cell_type": "code",
   "execution_count": null,
   "metadata": {},
   "outputs": [],
   "source": [
    "# CatBoost Model\n",
    "#model = CatBoostClassifier(\n",
    "#        custom_loss= ['Logloss'],\n",
    "#        random_seed=42,\n",
    "#        learning_rate=0.03\n",
    "#        #logging_level='Silent'\n",
    "#)"
   ]
  },
  {
   "cell_type": "code",
   "execution_count": 69,
   "metadata": {},
   "outputs": [],
   "source": [
    "RF_model = RandomForestClassifier(n_estimators=100)"
   ]
  },
  {
   "cell_type": "code",
   "execution_count": 70,
   "metadata": {},
   "outputs": [
    {
     "data": {
      "text/plain": [
       "RandomForestClassifier(bootstrap=True, class_weight=None, criterion='gini',\n",
       "            max_depth=None, max_features='auto', max_leaf_nodes=None,\n",
       "            min_impurity_decrease=0.0, min_impurity_split=None,\n",
       "            min_samples_leaf=1, min_samples_split=2,\n",
       "            min_weight_fraction_leaf=0.0, n_estimators=100, n_jobs=1,\n",
       "            oob_score=False, random_state=None, verbose=0,\n",
       "            warm_start=False)"
      ]
     },
     "execution_count": 70,
     "metadata": {},
     "output_type": "execute_result"
    }
   ],
   "source": [
    "RF_model.fit(X_train, y_train)"
   ]
  },
  {
   "cell_type": "code",
   "execution_count": 72,
   "metadata": {},
   "outputs": [
    {
     "name": "stdout",
     "output_type": "stream",
     "text": [
      "RF Accuracy: 0.79898989899\n"
     ]
    }
   ],
   "source": [
    "#Predict validation data\n",
    "y_pred = RF_model.predict(X_valid)\n",
    "#print(y_pred)\n",
    "acc=accuracy_score(y_valid, y_pred)\n",
    "print('RF Accuracy:', acc)"
   ]
  },
  {
   "cell_type": "code",
   "execution_count": 73,
   "metadata": {},
   "outputs": [
    {
     "data": {
      "text/plain": [
       "array([ 0.06671356,  0.11844067,  0.11922678, ...,  0.00661499,\n",
       "        0.00156441,  0.01856004])"
      ]
     },
     "execution_count": 73,
     "metadata": {},
     "output_type": "execute_result"
    }
   ],
   "source": [
    "RF_model.feature_importances_"
   ]
  },
  {
   "cell_type": "code",
   "execution_count": 74,
   "metadata": {},
   "outputs": [],
   "source": [
    "# introducing randomized search CV\n",
    "from sklearn.model_selection import RandomizedSearchCV\n",
    "from scipy.stats import randint as sp_randint\n",
    "clf = RandomForestClassifier(n_estimators=100)\n",
    "# specify parameters and distributions to sample from\n",
    "param_dist = {\"max_depth\": [3, None],\n",
    "              \"max_features\": sp_randint(1, 11),\n",
    "              \"min_samples_split\": sp_randint(2, 11),\n",
    "              \"min_samples_leaf\": sp_randint(1, 11),\n",
    "              \"bootstrap\": [True, False],\n",
    "              \"criterion\": [\"gini\", \"entropy\"]}"
   ]
  },
  {
   "cell_type": "code",
   "execution_count": 75,
   "metadata": {},
   "outputs": [],
   "source": [
    "# run randomized search\n",
    "n_iter_search = 20\n",
    "random_search = RandomizedSearchCV(clf, param_distributions=param_dist,\n",
    "                                   n_iter=n_iter_search)"
   ]
  },
  {
   "cell_type": "code",
   "execution_count": 76,
   "metadata": {},
   "outputs": [],
   "source": [
    "# Utility function to report best scores\n",
    "def report(results, n_top=3):\n",
    "    for i in range(1, n_top + 1):\n",
    "        candidates = np.flatnonzero(results['rank_test_score'] == i)\n",
    "        for candidate in candidates:\n",
    "            print(\"Model with rank: {0}\".format(i))\n",
    "            print(\"Mean validation score: {0:.3f} (std: {1:.3f})\".format(\n",
    "                  results['mean_test_score'][candidate],\n",
    "                  results['std_test_score'][candidate]))\n",
    "            print(\"Parameters: {0}\".format(results['params'][candidate]))\n",
    "            print(\"\")"
   ]
  },
  {
   "cell_type": "code",
   "execution_count": 78,
   "metadata": {},
   "outputs": [
    {
     "name": "stdout",
     "output_type": "stream",
     "text": [
      "RandomizedSearchCV took 937.05 seconds for 20 candidates parameter settings.\n",
      "Model with rank: 1\n",
      "Mean validation score: 0.802 (std: 0.002)\n",
      "Parameters: {'max_features': 7, 'min_samples_split': 7, 'criterion': 'gini', 'min_samples_leaf': 1, 'max_depth': None, 'bootstrap': True}\n",
      "\n",
      "Model with rank: 2\n",
      "Mean validation score: 0.701 (std: 0.006)\n",
      "Parameters: {'max_features': 9, 'min_samples_split': 8, 'criterion': 'entropy', 'min_samples_leaf': 4, 'max_depth': None, 'bootstrap': True}\n",
      "\n",
      "Model with rank: 3\n",
      "Mean validation score: 0.693 (std: 0.004)\n",
      "Parameters: {'max_features': 8, 'min_samples_split': 8, 'criterion': 'gini', 'min_samples_leaf': 4, 'max_depth': None, 'bootstrap': True}\n",
      "\n"
     ]
    }
   ],
   "source": [
    "from time import time\n",
    "start = time()\n",
    "random_search.fit(x, labels)\n",
    "print(\"RandomizedSearchCV took %.2f seconds for %d candidates\"\n",
    "      \" parameter settings.\" % ((time() - start), n_iter_search))\n",
    "report(random_search.cv_results_)"
   ]
  },
  {
   "cell_type": "code",
   "execution_count": 80,
   "metadata": {},
   "outputs": [
    {
     "name": "stdout",
     "output_type": "stream",
     "text": [
      "functional\n"
     ]
    }
   ],
   "source": [
    "# Getting the output\n",
    "pred_y = random_search.predict(testing_data)\n",
    "cat_pred_y = LEncoder.inverse_transform(pred_y)\n",
    "print(cat_pred_y[0])"
   ]
  },
  {
   "cell_type": "code",
   "execution_count": 83,
   "metadata": {},
   "outputs": [],
   "source": [
    "# output into a submission file\n",
    "output_df = pd.DataFrame({'status_group':cat_pred_y}, index=test_features.id)\n",
    "output_df.to_csv('submissionFile.csv')"
   ]
  },
  {
   "cell_type": "code",
   "execution_count": null,
   "metadata": {},
   "outputs": [],
   "source": [
    "#np.sort(RF_model.feature_importances_)\n",
    "#using LightGBM\n",
    "#train_data = lgb.Dataset(x, labels)"
   ]
  },
  {
   "cell_type": "code",
   "execution_count": null,
   "metadata": {},
   "outputs": [],
   "source": [
    "# using GradientBoosting CLassifier\n",
    "#GB_model = GradientBoostingClassifier()\n",
    "#GB_model.fit(X_train, y_train)"
   ]
  },
  {
   "cell_type": "code",
   "execution_count": null,
   "metadata": {},
   "outputs": [],
   "source": [
    "#y_pred = GB_model.predict(X_valid)\n",
    "#acc = accuracy_score(y_valid, y_pred)\n",
    "#print('GB accuracy:', acc)"
   ]
  },
  {
   "cell_type": "code",
   "execution_count": null,
   "metadata": {},
   "outputs": [],
   "source": [
    "# Fitting Data to the model\n",
    "#model.fit(X_train, y_train, cat_features=cat_features_index, eval_set=(X_valid, y_valid))"
   ]
  },
  {
   "cell_type": "code",
   "execution_count": null,
   "metadata": {},
   "outputs": [],
   "source": [
    "#y_pred_train = model.predict(X_train)\n",
    "#y_pred_valid = model.predict(X_valid)\n",
    "\n",
    "#accuracy_train = accuracy_score(y_train, y_pred_train)\n",
    "#accuracy_valid = accuracy_score(y_valid, y_pred_valid)\n",
    "#print('Train Accuracy:', accuracy_train, 'Validation accuracy:', accuracy_valid)"
   ]
  }
 ],
 "metadata": {
  "kernelspec": {
   "display_name": "Python 3",
   "language": "python",
   "name": "python3"
  },
  "language_info": {
   "codemirror_mode": {
    "name": "ipython",
    "version": 3
   },
   "file_extension": ".py",
   "mimetype": "text/x-python",
   "name": "python",
   "nbconvert_exporter": "python",
   "pygments_lexer": "ipython3",
   "version": "3.5.4"
  }
 },
 "nbformat": 4,
 "nbformat_minor": 2
}
