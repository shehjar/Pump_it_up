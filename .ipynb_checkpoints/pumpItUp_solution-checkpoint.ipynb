{
 "cells": [
  {
   "cell_type": "code",
   "execution_count": 1,
   "metadata": {},
   "outputs": [],
   "source": [
    "# Accessing Libraries\n",
    "import pandas as pd\n",
    "import numpy as np\n",
    "import os\n",
    "import matplotlib.pyplot as plt\n",
    "from sklearn.preprocessing import LabelEncoder, OneHotEncoder, StandardScaler\n",
    "from sklearn.model_selection import train_test_split, GridSearchCV, cross_validate, StratifiedShuffleSplit\n",
    "from sklearn.metrics import accuracy_score, make_scorer\n",
    "from sklearn.ensemble import RandomForestClassifier, GradientBoostingClassifier\n",
    "from catboost import Pool, CatBoostClassifier, cv\n",
    "import lightgbm as lgb\n",
    "import seaborn as sns\n",
    "import warnings\n",
    "warnings.filterwarnings('ignore')\n",
    "%matplotlib inline"
   ]
  },
  {
   "cell_type": "code",
   "execution_count": 2,
   "metadata": {},
   "outputs": [],
   "source": [
    "# Get data\n",
    "curdir = os.getcwd()\n",
    "dataFolder = os.path.join(curdir, 'Data')\n",
    "\n",
    "training_features = pd.read_csv(os.path.join(dataFolder, 'Training_set_values.csv'))\n",
    "training_labels = pd.read_csv(os.path.join(dataFolder, 'Training_set_labels.csv'))\n",
    "test_features = pd.read_csv(os.path.join(dataFolder, 'Test_set_values.csv'))"
   ]
  },
  {
   "cell_type": "code",
   "execution_count": 3,
   "metadata": {},
   "outputs": [
    {
     "data": {
      "text/html": [
       "<div>\n",
       "<style scoped>\n",
       "    .dataframe tbody tr th:only-of-type {\n",
       "        vertical-align: middle;\n",
       "    }\n",
       "\n",
       "    .dataframe tbody tr th {\n",
       "        vertical-align: top;\n",
       "    }\n",
       "\n",
       "    .dataframe thead th {\n",
       "        text-align: right;\n",
       "    }\n",
       "</style>\n",
       "<table border=\"1\" class=\"dataframe\">\n",
       "  <thead>\n",
       "    <tr style=\"text-align: right;\">\n",
       "      <th></th>\n",
       "      <th>amount_tsh</th>\n",
       "      <th>basin</th>\n",
       "      <th>construction_year</th>\n",
       "      <th>date_recorded</th>\n",
       "      <th>district_code</th>\n",
       "      <th>extraction_type</th>\n",
       "      <th>extraction_type_class</th>\n",
       "      <th>extraction_type_group</th>\n",
       "      <th>funder</th>\n",
       "      <th>gps_height</th>\n",
       "      <th>...</th>\n",
       "      <th>source</th>\n",
       "      <th>source_class</th>\n",
       "      <th>source_type</th>\n",
       "      <th>status_group</th>\n",
       "      <th>subvillage</th>\n",
       "      <th>ward</th>\n",
       "      <th>water_quality</th>\n",
       "      <th>waterpoint_type</th>\n",
       "      <th>waterpoint_type_group</th>\n",
       "      <th>wpt_name</th>\n",
       "    </tr>\n",
       "  </thead>\n",
       "  <tbody>\n",
       "    <tr>\n",
       "      <th>0</th>\n",
       "      <td>6000.0</td>\n",
       "      <td>Lake Nyasa</td>\n",
       "      <td>1999</td>\n",
       "      <td>2011-03-14</td>\n",
       "      <td>5</td>\n",
       "      <td>gravity</td>\n",
       "      <td>gravity</td>\n",
       "      <td>gravity</td>\n",
       "      <td>Roman</td>\n",
       "      <td>1390</td>\n",
       "      <td>...</td>\n",
       "      <td>spring</td>\n",
       "      <td>groundwater</td>\n",
       "      <td>spring</td>\n",
       "      <td>functional</td>\n",
       "      <td>Mnyusi B</td>\n",
       "      <td>Mundindi</td>\n",
       "      <td>soft</td>\n",
       "      <td>communal standpipe</td>\n",
       "      <td>communal standpipe</td>\n",
       "      <td>none</td>\n",
       "    </tr>\n",
       "    <tr>\n",
       "      <th>1</th>\n",
       "      <td>0.0</td>\n",
       "      <td>Lake Victoria</td>\n",
       "      <td>2010</td>\n",
       "      <td>2013-03-06</td>\n",
       "      <td>2</td>\n",
       "      <td>gravity</td>\n",
       "      <td>gravity</td>\n",
       "      <td>gravity</td>\n",
       "      <td>Grumeti</td>\n",
       "      <td>1399</td>\n",
       "      <td>...</td>\n",
       "      <td>rainwater harvesting</td>\n",
       "      <td>surface</td>\n",
       "      <td>rainwater harvesting</td>\n",
       "      <td>functional</td>\n",
       "      <td>Nyamara</td>\n",
       "      <td>Natta</td>\n",
       "      <td>soft</td>\n",
       "      <td>communal standpipe</td>\n",
       "      <td>communal standpipe</td>\n",
       "      <td>Zahanati</td>\n",
       "    </tr>\n",
       "    <tr>\n",
       "      <th>2</th>\n",
       "      <td>25.0</td>\n",
       "      <td>Pangani</td>\n",
       "      <td>2009</td>\n",
       "      <td>2013-02-25</td>\n",
       "      <td>4</td>\n",
       "      <td>gravity</td>\n",
       "      <td>gravity</td>\n",
       "      <td>gravity</td>\n",
       "      <td>Lottery Club</td>\n",
       "      <td>686</td>\n",
       "      <td>...</td>\n",
       "      <td>dam</td>\n",
       "      <td>surface</td>\n",
       "      <td>dam</td>\n",
       "      <td>functional</td>\n",
       "      <td>Majengo</td>\n",
       "      <td>Ngorika</td>\n",
       "      <td>soft</td>\n",
       "      <td>communal standpipe multiple</td>\n",
       "      <td>communal standpipe</td>\n",
       "      <td>Kwa Mahundi</td>\n",
       "    </tr>\n",
       "    <tr>\n",
       "      <th>3</th>\n",
       "      <td>0.0</td>\n",
       "      <td>Ruvuma / Southern Coast</td>\n",
       "      <td>1986</td>\n",
       "      <td>2013-01-28</td>\n",
       "      <td>63</td>\n",
       "      <td>submersible</td>\n",
       "      <td>submersible</td>\n",
       "      <td>submersible</td>\n",
       "      <td>Unicef</td>\n",
       "      <td>263</td>\n",
       "      <td>...</td>\n",
       "      <td>machine dbh</td>\n",
       "      <td>groundwater</td>\n",
       "      <td>borehole</td>\n",
       "      <td>non functional</td>\n",
       "      <td>Mahakamani</td>\n",
       "      <td>Nanyumbu</td>\n",
       "      <td>soft</td>\n",
       "      <td>communal standpipe multiple</td>\n",
       "      <td>communal standpipe</td>\n",
       "      <td>Zahanati Ya Nanyumbu</td>\n",
       "    </tr>\n",
       "    <tr>\n",
       "      <th>4</th>\n",
       "      <td>0.0</td>\n",
       "      <td>Lake Victoria</td>\n",
       "      <td>0</td>\n",
       "      <td>2011-07-13</td>\n",
       "      <td>1</td>\n",
       "      <td>gravity</td>\n",
       "      <td>gravity</td>\n",
       "      <td>gravity</td>\n",
       "      <td>Action In A</td>\n",
       "      <td>0</td>\n",
       "      <td>...</td>\n",
       "      <td>rainwater harvesting</td>\n",
       "      <td>surface</td>\n",
       "      <td>rainwater harvesting</td>\n",
       "      <td>functional</td>\n",
       "      <td>Kyanyamisa</td>\n",
       "      <td>Nyakasimbi</td>\n",
       "      <td>soft</td>\n",
       "      <td>communal standpipe</td>\n",
       "      <td>communal standpipe</td>\n",
       "      <td>Shuleni</td>\n",
       "    </tr>\n",
       "  </tbody>\n",
       "</table>\n",
       "<p>5 rows × 41 columns</p>\n",
       "</div>"
      ],
      "text/plain": [
       "   amount_tsh                    basin  construction_year date_recorded  \\\n",
       "0      6000.0               Lake Nyasa               1999    2011-03-14   \n",
       "1         0.0            Lake Victoria               2010    2013-03-06   \n",
       "2        25.0                  Pangani               2009    2013-02-25   \n",
       "3         0.0  Ruvuma / Southern Coast               1986    2013-01-28   \n",
       "4         0.0            Lake Victoria                  0    2011-07-13   \n",
       "\n",
       "   district_code extraction_type extraction_type_class extraction_type_group  \\\n",
       "0              5         gravity               gravity               gravity   \n",
       "1              2         gravity               gravity               gravity   \n",
       "2              4         gravity               gravity               gravity   \n",
       "3             63     submersible           submersible           submersible   \n",
       "4              1         gravity               gravity               gravity   \n",
       "\n",
       "         funder  gps_height          ...                         source  \\\n",
       "0         Roman        1390          ...                         spring   \n",
       "1       Grumeti        1399          ...           rainwater harvesting   \n",
       "2  Lottery Club         686          ...                            dam   \n",
       "3        Unicef         263          ...                    machine dbh   \n",
       "4   Action In A           0          ...           rainwater harvesting   \n",
       "\n",
       "  source_class           source_type    status_group  subvillage        ward  \\\n",
       "0  groundwater                spring      functional    Mnyusi B    Mundindi   \n",
       "1      surface  rainwater harvesting      functional     Nyamara       Natta   \n",
       "2      surface                   dam      functional     Majengo     Ngorika   \n",
       "3  groundwater              borehole  non functional  Mahakamani    Nanyumbu   \n",
       "4      surface  rainwater harvesting      functional  Kyanyamisa  Nyakasimbi   \n",
       "\n",
       "  water_quality              waterpoint_type waterpoint_type_group  \\\n",
       "0          soft           communal standpipe    communal standpipe   \n",
       "1          soft           communal standpipe    communal standpipe   \n",
       "2          soft  communal standpipe multiple    communal standpipe   \n",
       "3          soft  communal standpipe multiple    communal standpipe   \n",
       "4          soft           communal standpipe    communal standpipe   \n",
       "\n",
       "               wpt_name  \n",
       "0                  none  \n",
       "1              Zahanati  \n",
       "2           Kwa Mahundi  \n",
       "3  Zahanati Ya Nanyumbu  \n",
       "4               Shuleni  \n",
       "\n",
       "[5 rows x 41 columns]"
      ]
     },
     "metadata": {},
     "output_type": "display_data"
    }
   ],
   "source": [
    "# Merge training and test data\n",
    "training_data = pd.merge(training_features, training_labels, on='id')\n",
    "data = pd.concat([training_data, test_features], ignore_index=True)\n",
    "display(data.head())"
   ]
  },
  {
   "cell_type": "code",
   "execution_count": 4,
   "metadata": {},
   "outputs": [
    {
     "name": "stdout",
     "output_type": "stream",
     "text": [
      "<class 'pandas.core.frame.DataFrame'>\n",
      "RangeIndex: 74250 entries, 0 to 74249\n",
      "Data columns (total 41 columns):\n",
      "amount_tsh               74250 non-null float64\n",
      "basin                    74250 non-null object\n",
      "construction_year        74250 non-null int64\n",
      "date_recorded            74250 non-null object\n",
      "district_code            74250 non-null int64\n",
      "extraction_type          74250 non-null object\n",
      "extraction_type_class    74250 non-null object\n",
      "extraction_type_group    74250 non-null object\n",
      "funder                   69746 non-null object\n",
      "gps_height               74250 non-null int64\n",
      "id                       74250 non-null int64\n",
      "installer                69718 non-null object\n",
      "latitude                 74250 non-null float64\n",
      "lga                      74250 non-null object\n",
      "longitude                74250 non-null float64\n",
      "management               74250 non-null object\n",
      "management_group         74250 non-null object\n",
      "num_private              74250 non-null int64\n",
      "payment                  74250 non-null object\n",
      "payment_type             74250 non-null object\n",
      "permit                   70457 non-null object\n",
      "population               74250 non-null int64\n",
      "public_meeting           70095 non-null object\n",
      "quality_group            74250 non-null object\n",
      "quantity                 74250 non-null object\n",
      "quantity_group           74250 non-null object\n",
      "recorded_by              74250 non-null object\n",
      "region                   74250 non-null object\n",
      "region_code              74250 non-null int64\n",
      "scheme_management        69404 non-null object\n",
      "scheme_name              38992 non-null object\n",
      "source                   74250 non-null object\n",
      "source_class             74250 non-null object\n",
      "source_type              74250 non-null object\n",
      "status_group             59400 non-null object\n",
      "subvillage               73780 non-null object\n",
      "ward                     74250 non-null object\n",
      "water_quality            74250 non-null object\n",
      "waterpoint_type          74250 non-null object\n",
      "waterpoint_type_group    74250 non-null object\n",
      "wpt_name                 74250 non-null object\n",
      "dtypes: float64(3), int64(7), object(31)\n",
      "memory usage: 23.2+ MB\n"
     ]
    }
   ],
   "source": [
    "# Overall data info\n",
    "data.info()"
   ]
  },
  {
   "cell_type": "code",
   "execution_count": 5,
   "metadata": {},
   "outputs": [
    {
     "data": {
      "text/plain": [
       "amount_tsh                   0\n",
       "basin                        0\n",
       "construction_year            0\n",
       "date_recorded                0\n",
       "district_code                0\n",
       "extraction_type              0\n",
       "extraction_type_class        0\n",
       "extraction_type_group        0\n",
       "funder                    4504\n",
       "gps_height                   0\n",
       "id                           0\n",
       "installer                 4532\n",
       "latitude                     0\n",
       "lga                          0\n",
       "longitude                    0\n",
       "management                   0\n",
       "management_group             0\n",
       "num_private                  0\n",
       "payment                      0\n",
       "payment_type                 0\n",
       "permit                    3793\n",
       "population                   0\n",
       "public_meeting            4155\n",
       "quality_group                0\n",
       "quantity                     0\n",
       "quantity_group               0\n",
       "recorded_by                  0\n",
       "region                       0\n",
       "region_code                  0\n",
       "scheme_management         4846\n",
       "scheme_name              35258\n",
       "source                       0\n",
       "source_class                 0\n",
       "source_type                  0\n",
       "status_group             14850\n",
       "subvillage                 470\n",
       "ward                         0\n",
       "water_quality                0\n",
       "waterpoint_type              0\n",
       "waterpoint_type_group        0\n",
       "wpt_name                     0\n",
       "dtype: int64"
      ]
     },
     "execution_count": 5,
     "metadata": {},
     "output_type": "execute_result"
    }
   ],
   "source": [
    "# Show how many columns are null\n",
    "data.isnull().sum()"
   ]
  },
  {
   "cell_type": "code",
   "execution_count": 6,
   "metadata": {},
   "outputs": [],
   "source": [
    "# fill null items with -999 for test and training data\n",
    "data.fillna('nan', inplace=True)"
   ]
  },
  {
   "cell_type": "code",
   "execution_count": 7,
   "metadata": {},
   "outputs": [
    {
     "data": {
      "text/plain": [
       "amount_tsh               0\n",
       "basin                    0\n",
       "construction_year        0\n",
       "date_recorded            0\n",
       "district_code            0\n",
       "extraction_type          0\n",
       "extraction_type_class    0\n",
       "extraction_type_group    0\n",
       "funder                   0\n",
       "gps_height               0\n",
       "id                       0\n",
       "installer                0\n",
       "latitude                 0\n",
       "lga                      0\n",
       "longitude                0\n",
       "management               0\n",
       "management_group         0\n",
       "num_private              0\n",
       "payment                  0\n",
       "payment_type             0\n",
       "permit                   0\n",
       "population               0\n",
       "public_meeting           0\n",
       "quality_group            0\n",
       "quantity                 0\n",
       "quantity_group           0\n",
       "recorded_by              0\n",
       "region                   0\n",
       "region_code              0\n",
       "scheme_management        0\n",
       "scheme_name              0\n",
       "source                   0\n",
       "source_class             0\n",
       "source_type              0\n",
       "status_group             0\n",
       "subvillage               0\n",
       "ward                     0\n",
       "water_quality            0\n",
       "waterpoint_type          0\n",
       "waterpoint_type_group    0\n",
       "wpt_name                 0\n",
       "dtype: int64"
      ]
     },
     "execution_count": 7,
     "metadata": {},
     "output_type": "execute_result"
    }
   ],
   "source": [
    "data.isnull().sum()"
   ]
  },
  {
   "cell_type": "code",
   "execution_count": 8,
   "metadata": {},
   "outputs": [],
   "source": [
    "# Setting the chosen features from the training data\n",
    "chosen_features = []"
   ]
  },
  {
   "cell_type": "code",
   "execution_count": 9,
   "metadata": {},
   "outputs": [
    {
     "data": {
      "text/plain": [
       "<matplotlib.axes._subplots.AxesSubplot at 0x223968845f8>"
      ]
     },
     "execution_count": 9,
     "metadata": {},
     "output_type": "execute_result"
    },
    {
     "data": {
      "image/png": "[encoded data removed]",
      "text/plain": [
       "<matplotlib.figure.Figure at 0x223944b50b8>"
      ]
     },
     "metadata": {},
     "output_type": "display_data"
    }
   ],
   "source": [
    "# Checking the status_group column\n",
    "sns.countplot(x = 'status_group', data = training_labels)"
   ]
  },
  {
   "cell_type": "markdown",
   "metadata": {},
   "source": [
    "This is a skewed training set with unequal distribution of each class."
   ]
  },
  {
   "cell_type": "code",
   "execution_count": 10,
   "metadata": {},
   "outputs": [],
   "source": [
    "# bar plot function\n",
    "def barPlot(df, columnStr):\n",
    "    cross_tab = pd.crosstab(index=df[columnStr], columns=df[\"status_group\"])\n",
    "    cross_tab.plot(kind='bar', stacked = True)\n",
    "\n",
    "# feature editing\n",
    "# feature instances are grouped by taking the first 3 characters of the instance, convert into lower case and taking the top 15 \n",
    "# most occuring instances, while the rest is grouped in a new instance called 'others'\n",
    "def feature_edit(df, column):\n",
    "    str_column = df[column].astype('str')\n",
    "    str_column_3 = [s[:3].lower() for s in str_column]\n",
    "    cat_column_3 = pd.Categorical(str_column_3)\n",
    "    new_df = pd.DataFrame({'column_3':cat_column_3})\n",
    "    new_df.column_3 = new_df.column_3.cat.add_categories('others')\n",
    "    #new_df.column_3 = new_df.column_3.replace({'nan':'others'})\n",
    "    sort_cat = new_df.column_3.value_counts().keys()[:15]\n",
    "    mask = np.logical_not(new_df.column_3.isin(sort_cat))\n",
    "    new_df.column_3.loc[mask] = 'others'\n",
    "    new_df.column_3 = new_df.column_3.cat.remove_unused_categories()\n",
    "    return new_df.column_3"
   ]
  },
  {
   "cell_type": "code",
   "execution_count": 11,
   "metadata": {},
   "outputs": [
    {
     "data": {
      "image/png": "[encoded data removed]",
      "text/plain": [
       "<matplotlib.figure.Figure at 0x223963ff278>"
      ]
     },
     "metadata": {},
     "output_type": "display_data"
    }
   ],
   "source": [
    "# correlation matrix\n",
    "x_train = training_data.drop(columns=['id'])\n",
    "corr_mat = x_train.corr()\n",
    "f, ax = plt.subplots(figsize=(12, 9))\n",
    "sns.heatmap(corr_mat, vmax=.8, square=True);"
   ]
  },
  {
   "cell_type": "markdown",
   "metadata": {},
   "source": [
    "The correlated columns include gps_height, Longitude, Latitude, region_code, district_code, population and construction_year\n",
    "\n",
    "In fact, region_code and district_code form a situation of multi-colinearity."
   ]
  },
  {
   "cell_type": "code",
   "execution_count": 12,
   "metadata": {},
   "outputs": [
    {
     "data": {
      "image/png": "[encoded data removed]",
      "text/plain": [
       "<matplotlib.figure.Figure at 0x223968aa400>"
      ]
     },
     "metadata": {},
     "output_type": "display_data"
    }
   ],
   "source": [
    "# Frequency plot for funder\n",
    "barPlot(data, \"funder\")"
   ]
  },
  {
   "cell_type": "code",
   "execution_count": 13,
   "metadata": {},
   "outputs": [
    {
     "data": {
      "image/png": "[encoded data removed]",
      "text/plain": [
       "<matplotlib.figure.Figure at 0x22396975a58>"
      ]
     },
     "metadata": {},
     "output_type": "display_data"
    }
   ],
   "source": [
    "# Converting the first three characters of individual features to lowercase and then extracting the top 15 highest occuring instances\n",
    "# The remaining instances are placed in the 'others' category\n",
    "#training_data['funder_3'] = feature_edit(training_data, 'funder')\n",
    "data['funder_3'] = feature_edit(data, 'funder')\n",
    "barPlot(data, 'funder_3')"
   ]
  },
  {
   "cell_type": "code",
   "execution_count": 14,
   "metadata": {},
   "outputs": [],
   "source": [
    "# Adding funder_3 in the list of features\n",
    "if 'funder_3' not in chosen_features:\n",
    "    chosen_features.append('funder_3')"
   ]
  },
  {
   "cell_type": "code",
   "execution_count": 15,
   "metadata": {},
   "outputs": [
    {
     "data": {
      "image/png": "[encoded data removed]",
      "text/plain": [
       "<matplotlib.figure.Figure at 0x22397d8ce10>"
      ]
     },
     "metadata": {},
     "output_type": "display_data"
    }
   ],
   "source": [
    "# Doing a similar kind of feature engineering for installer column\n",
    "data['installer_3'] = feature_edit(data, 'installer')\n",
    "barPlot(data, 'installer_3')"
   ]
  },
  {
   "cell_type": "code",
   "execution_count": 16,
   "metadata": {},
   "outputs": [],
   "source": [
    "#adding installer_3\n",
    "if 'installer_3' not in chosen_features:\n",
    "    chosen_features.append('installer_3')"
   ]
  },
  {
   "cell_type": "code",
   "execution_count": 17,
   "metadata": {},
   "outputs": [
    {
     "name": "stdout",
     "output_type": "stream",
     "text": [
      "62.9225589226 % of instances are greater than 0\n"
     ]
    },
    {
     "data": {
      "image/png": "[encoded data removed]",
      "text/plain": [
       "<matplotlib.figure.Figure at 0x22398e2b780>"
      ]
     },
     "metadata": {},
     "output_type": "display_data"
    }
   ],
   "source": [
    "# histogram for gps_height\n",
    "gps = data.gps_height[data.gps_height > 0]\n",
    "hist_plot = plt.hist(gps)\n",
    "print(np.sum(hist_plot[0])/data.gps_height.size*100, '% of instances are greater than 0')"
   ]
  },
  {
   "cell_type": "code",
   "execution_count": 18,
   "metadata": {},
   "outputs": [
    {
     "ename": "ImportError",
     "evalue": "No module named 'mpl_toolkits.basemap'",
     "output_type": "error",
     "traceback": [
      "\u001b[1;31m---------------------------------------------------------------------------\u001b[0m",
      "\u001b[1;31mImportError\u001b[0m                               Traceback (most recent call last)",
      "\u001b[1;32m<ipython-input-18-89e4f1e9f355>\u001b[0m in \u001b[0;36m<module>\u001b[1;34m()\u001b[0m\n\u001b[0;32m      1\u001b[0m \u001b[1;31m# Plotting GPS coordinates with hue of gps_height\u001b[0m\u001b[1;33m\u001b[0m\u001b[1;33m\u001b[0m\u001b[0m\n\u001b[1;32m----> 2\u001b[1;33m \u001b[1;32mfrom\u001b[0m \u001b[0mmpl_toolkits\u001b[0m\u001b[1;33m.\u001b[0m\u001b[0mbasemap\u001b[0m \u001b[1;32mimport\u001b[0m \u001b[0mBasemap\u001b[0m\u001b[1;33m\u001b[0m\u001b[0m\n\u001b[0m",
      "\u001b[1;31mImportError\u001b[0m: No module named 'mpl_toolkits.basemap'"
     ]
    }
   ],
   "source": [
    "# Plotting GPS coordinates with hue of gps_height\n",
    "from mpl_toolkits.basemap import Basemap"
   ]
  },
  {
   "cell_type": "code",
   "execution_count": null,
   "metadata": {},
   "outputs": [],
   "source": [
    "# choosing gps_height\n",
    "if 'gps_height' not in chosen_features:\n",
    "    chosen_features.append('gps_height')"
   ]
  },
  {
   "cell_type": "code",
   "execution_count": null,
   "metadata": {},
   "outputs": [],
   "source": [
    "data['longitude'].describe()"
   ]
  },
  {
   "cell_type": "code",
   "execution_count": null,
   "metadata": {},
   "outputs": [],
   "source": [
    "data['latitude'].describe()"
   ]
  },
  {
   "cell_type": "code",
   "execution_count": null,
   "metadata": {},
   "outputs": [],
   "source": [
    "# Plotting longitude and latitude\n",
    "#plt.scatter(data.longitude, data.latitude, hue=)\n",
    "df = data[data.status_group != 'nan']\n",
    "sns.lmplot(x = 'longitude', y = 'latitude', data = df, hue = 'status_group', fit_reg= False)"
   ]
  },
  {
   "cell_type": "markdown",
   "metadata": {},
   "source": [
    "The Longitude and Latitude data seem to have a 0 instance, which doesn't really make sense. \n",
    "To impute the data I choose to create a groupby dataframe based on region and district_code. The zero instances of both columns \n",
    "are then given the median of the groupby dataframe (either using region and district_code togther or just from region). The median of the data is a good way for center measure considering that the data contains zeros. "
   ]
  },
  {
   "cell_type": "code",
   "execution_count": null,
   "metadata": {},
   "outputs": [],
   "source": [
    "# List of 0 entries\n",
    "long_index = data.longitude.loc[np.absolute(data.longitude) < 0.001].keys().tolist()\n",
    "lat_index = data.latitude.loc[np.absolute(data.latitude) < 0.001].keys().tolist()\n",
    "print(len(long_index))\n",
    "print(len(lat_index))"
   ]
  },
  {
   "cell_type": "code",
   "execution_count": null,
   "metadata": {},
   "outputs": [],
   "source": [
    "# creating a function for the imputed Longitude and Latitude data\n",
    "df_region_DC = data.groupby(['region_code','district_code'])\n",
    "df_region = data.groupby('region_code')\n",
    "def LocationImputedSeries(df, df_region_DC, df_region):\n",
    "    Long_med_reg_DC = df_region_DC.longitude.median()\n",
    "    Lat_med_reg_DC = df_region_DC.latitude.median()\n",
    "    Long_med_reg = df_region.longitude.median()\n",
    "    Lat_med_reg = df_region.latitude.median()\n",
    "    # Zero indices\n",
    "    long_index = df.longitude.loc[np.absolute(df.longitude) < 0.001].keys().tolist()\n",
    "    lat_index = df.latitude.loc[np.absolute(df.latitude) < 0.001].keys().tolist()\n",
    "    long_data = df.longitude.tolist()\n",
    "    lat_data = df.latitude.tolist()\n",
    "    # Longitude:\n",
    "    for i in long_index:\n",
    "        if abs(long_data[i]) < 0.001:\n",
    "            reg = df.region_code.loc[i]\n",
    "            dist = df.district_code.loc[i]\n",
    "            long_data[i] = Long_med_reg_DC[(reg, dist)]\n",
    "            if abs(long_data[i]) < 0.001:\n",
    "                long_data[i] = Long_med_reg[reg]\n",
    "    # Latitude:\n",
    "    for i in lat_index:\n",
    "        if abs(lat_data[i]) < 0.001:\n",
    "            reg = df.region_code.loc[i]\n",
    "            dist = df.district_code.loc[i]\n",
    "            lat_data[i] = Lat_med_reg_DC[(reg, dist)]\n",
    "            if abs(lat_data[i]) < 0.001:\n",
    "                lat_data[i] = Lat_med_reg[reg]\n",
    "    return (long_data, lat_data)"
   ]
  },
  {
   "cell_type": "code",
   "execution_count": null,
   "metadata": {},
   "outputs": [],
   "source": [
    "df_region_DC.longitude.count()"
   ]
  },
  {
   "cell_type": "code",
   "execution_count": null,
   "metadata": {},
   "outputs": [],
   "source": [
    "Long_data , Lat_data = LocationImputedSeries(data, df_region_DC, df_region)\n",
    "data['Longitude_new'] = pd.Series(Long_data, index=data.index)\n",
    "data['Latitude_new'] = pd.Series(Lat_data, index=data.index)"
   ]
  },
  {
   "cell_type": "code",
   "execution_count": null,
   "metadata": {},
   "outputs": [],
   "source": [
    "# scatter plot of new imputed data\n",
    "df = data[data.status_group != 'nan']\n",
    "sns.lmplot(x='Longitude_new', y='Latitude_new', hue='status_group', data = df, fit_reg=False)"
   ]
  },
  {
   "cell_type": "code",
   "execution_count": null,
   "metadata": {},
   "outputs": [],
   "source": [
    "#choosing both latitude and longitude\n",
    "if 'Latitude_new' not in chosen_features:\n",
    "    chosen_features.append('Latitude_new')\n",
    "if 'Longitude_new' not in chosen_features:\n",
    "    chosen_features.append('Longitude_new')\n",
    "if 'region_code' not in chosen_features:\n",
    "    chosen_features.append('region_code')\n",
    "if 'district_code' not in chosen_features:\n",
    "    chosen_features.append('district_code')"
   ]
  },
  {
   "cell_type": "code",
   "execution_count": null,
   "metadata": {},
   "outputs": [],
   "source": [
    "# Checking wpt_name\n",
    "data.wpt_name.describe()"
   ]
  },
  {
   "cell_type": "markdown",
   "metadata": {},
   "source": [
    "This feature has more than half of the number of instances as unique. This is not considered for the model as the instances are difficult to group. And I'm not sure what it exaclty represents."
   ]
  },
  {
   "cell_type": "code",
   "execution_count": null,
   "metadata": {},
   "outputs": [],
   "source": [
    "# Since we arent interested in wpt_name, we now go through num_private\n",
    "print(data.num_private.dtype)\n",
    "print(np.sum(data.num_private == 0))\n",
    "print(np.sum(data.num_private == 1))\n",
    "plt.hist(data.num_private, bins=np.arange(min(data.num_private), max(data.num_private) + 10, 10))\n",
    "# The data seems heavily centered at 0, with about 200 points greater than that"
   ]
  },
  {
   "cell_type": "code",
   "execution_count": null,
   "metadata": {},
   "outputs": [],
   "source": [
    "# Taking the log transform \n",
    "data['num_private_new'] = data['num_private'].apply(lambda x: np.log(x+1))"
   ]
  },
  {
   "cell_type": "code",
   "execution_count": null,
   "metadata": {},
   "outputs": [],
   "source": [
    "#plt.hist(data.num_private_new, bins=np.arange(min(data.num_private_new), max(data.num_private_new) + 10, 10))\n",
    "plt.hist(data.num_private_new)"
   ]
  },
  {
   "cell_type": "code",
   "execution_count": null,
   "metadata": {},
   "outputs": [],
   "source": [
    "if 'num_private_new' not in chosen_features:\n",
    "    chosen_features.append('num_private_new')"
   ]
  },
  {
   "cell_type": "code",
   "execution_count": null,
   "metadata": {},
   "outputs": [],
   "source": [
    "#Now exploring basin\n",
    "pd.Categorical(data.basin)\n",
    "df = data[data.status_group!='nan']\n",
    "barPlot(df, 'basin')"
   ]
  },
  {
   "cell_type": "code",
   "execution_count": null,
   "metadata": {},
   "outputs": [],
   "source": [
    "if 'basin' not in chosen_features:\n",
    "    chosen_features.append('basin')"
   ]
  },
  {
   "cell_type": "code",
   "execution_count": null,
   "metadata": {},
   "outputs": [],
   "source": [
    "print(training_data.subvillage.describe())"
   ]
  },
  {
   "cell_type": "code",
   "execution_count": null,
   "metadata": {},
   "outputs": [],
   "source": [
    "data['subvillage_3'] = feature_edit(data, 'subvillage')\n",
    "df = data[data.status_group!='nan']\n",
    "barPlot(df, 'subvillage_3')\n",
    "#if 'subvillage' not in chosen_features:\n",
    "#    chosen_features.append('subvillage')"
   ]
  },
  {
   "cell_type": "code",
   "execution_count": null,
   "metadata": {},
   "outputs": [],
   "source": [
    "df = data[data.status_group!='nan']\n",
    "barPlot(df, 'ward')\n",
    "print(data.ward.describe())"
   ]
  },
  {
   "cell_type": "code",
   "execution_count": null,
   "metadata": {},
   "outputs": [],
   "source": [
    "if 'ward' not in chosen_features:\n",
    "    chosen_features.append('ward')"
   ]
  },
  {
   "cell_type": "code",
   "execution_count": null,
   "metadata": {},
   "outputs": [],
   "source": [
    "# exploring lga\n",
    "df = data[data.status_group!='nan']\n",
    "barPlot(df, 'lga')\n",
    "data.lga.describe()"
   ]
  },
  {
   "cell_type": "code",
   "execution_count": null,
   "metadata": {},
   "outputs": [],
   "source": [
    "if 'lga' not in chosen_features:\n",
    "    chosen_features.append('lga')"
   ]
  },
  {
   "cell_type": "code",
   "execution_count": null,
   "metadata": {},
   "outputs": [],
   "source": [
    "# Having already done visualizations for the below columns, I've added the columns into the chosen features list\n",
    "chosen_features.extend(['extraction_type', 'extraction_type_class', 'management', 'management_group', \n",
    "                        'scheme_management', 'payment_type', 'water_quality', 'quantity', 'source', 'source_class',\n",
    "                        'construction_year', 'waterpoint_type'])"
   ]
  },
  {
   "cell_type": "code",
   "execution_count": null,
   "metadata": {},
   "outputs": [],
   "source": [
    "# printing all the features to be used-\n",
    "data[chosen_features].info()"
   ]
  },
  {
   "cell_type": "code",
   "execution_count": null,
   "metadata": {},
   "outputs": [],
   "source": [
    "# Doing get dummies to get all the required columns\n",
    "X_data = data[chosen_features]\n",
    "elaborate_X_Data = pd.get_dummies(X_data)\n",
    "training_data = elaborate_X_Data[data.status_group != 'nan']\n",
    "testing_data = elaborate_X_Data[data.status_group == 'nan']"
   ]
  },
  {
   "cell_type": "code",
   "execution_count": null,
   "metadata": {},
   "outputs": [],
   "source": [
    "print(training_data.shape)\n",
    "print(testing_data.shape)"
   ]
  },
  {
   "cell_type": "code",
   "execution_count": null,
   "metadata": {},
   "outputs": [],
   "source": [
    "# Scale the Latitude and Longitude data from Training and testing set\n",
    "scaler = StandardScaler()\n",
    "training_data[['Longitude_new', 'Latitude_new']] = scaler.fit_transform(training_data[['Longitude_new', 'Latitude_new']])\n",
    "testing_data[['Longitude_new', 'Latitude_new']] = scaler.transform(testing_data[['Longitude_new', 'Latitude_new']])"
   ]
  },
  {
   "cell_type": "code",
   "execution_count": null,
   "metadata": {},
   "outputs": [],
   "source": [
    "y = training_labels.status_group\n",
    "LEncoder = LabelEncoder()\n",
    "LEncoder.fit(y)\n",
    "labels = LEncoder.transform(y)\n",
    "print(LEncoder.classes_)\n",
    "x = training_data.as_matrix()"
   ]
  },
  {
   "cell_type": "code",
   "execution_count": null,
   "metadata": {},
   "outputs": [],
   "source": [
    "# Split training and validation data\n",
    "X_train, X_valid, y_train, y_valid = train_test_split(x, labels, train_size=0.8, random_state=42)"
   ]
  },
  {
   "cell_type": "code",
   "execution_count": null,
   "metadata": {},
   "outputs": [],
   "source": [
    "RF_model = RandomForestClassifier(n_estimators=100)"
   ]
  },
  {
   "cell_type": "code",
   "execution_count": null,
   "metadata": {},
   "outputs": [],
   "source": [
    "RF_model.fit(X_train, y_train)"
   ]
  },
  {
   "cell_type": "code",
   "execution_count": null,
   "metadata": {},
   "outputs": [],
   "source": [
    "#Predict validation data\n",
    "y_pred = RF_model.predict(X_valid)\n",
    "#print(y_pred)\n",
    "acc=accuracy_score(y_valid, y_pred)\n",
    "print('RF Accuracy:', acc)"
   ]
  },
  {
   "cell_type": "code",
   "execution_count": null,
   "metadata": {},
   "outputs": [],
   "source": [
    "features = RF_model.feature_importances_\n",
    "imp_features = np.argsort(features)[::-1]\n",
    "k = 10\n",
    "print(training_data.columns[imp_features[:10]])"
   ]
  },
  {
   "cell_type": "code",
   "execution_count": null,
   "metadata": {},
   "outputs": [],
   "source": [
    "#checking the accuracy of the model with only the top 10 important features\n",
    "from sklearn.base import clone\n",
    "training_data_reduced = training_data[training_data.columns.values[imp_features[:k]]]\n",
    "x_reduced = training_data_reduced.as_matrix()\n",
    "# Split training and validation data\n",
    "X_train, X_valid, y_train, y_valid = train_test_split(x_reduced, labels, train_size=0.8, random_state=42)\n",
    "RF_reduced = clone(RF_model)\n",
    "RF_reduced.fit(X_train, y_train)"
   ]
  },
  {
   "cell_type": "code",
   "execution_count": null,
   "metadata": {},
   "outputs": [],
   "source": [
    "y_pred = RF_reduced.predict(X_valid)\n",
    "acc = accuracy_score(y_valid, y_pred)\n",
    "print('RF reduced model accuracy:', acc)"
   ]
  },
  {
   "cell_type": "code",
   "execution_count": null,
   "metadata": {},
   "outputs": [],
   "source": [
    "# Utility function to report best scores\n",
    "def report(results, n_top=3):\n",
    "    for i in range(1, n_top + 1):\n",
    "        candidates = np.flatnonzero(results['rank_test_score'] == i)\n",
    "        for candidate in candidates:\n",
    "            print(\"Model with rank: {0}\".format(i))\n",
    "            print(\"Mean validation score: {0:.3f} (std: {1:.3f})\".format(\n",
    "                  results['mean_test_score'][candidate],\n",
    "                  results['std_test_score'][candidate]))\n",
    "            print(\"Parameters: {0}\".format(results['params'][candidate]))\n",
    "            print(\"\")"
   ]
  },
  {
   "cell_type": "code",
   "execution_count": null,
   "metadata": {},
   "outputs": [],
   "source": [
    "# Making Grid search for model parameters using the reduced model\n",
    "from sklearn.model_selection import GridSearchCV, StratifiedShuffleSplit\n",
    "from sklearn.metrics import fbeta_score, accuracy_score\n",
    "clf = RandomForestClassifier()\n",
    "param_dist = {\"n_estimators\": [50, 100, 150],\n",
    "             \"max_depth\":[3, 5, 7],\n",
    "             #\"min_samples_split\":[2, 3, 5],\n",
    "             #\"min_samples_leaf\":[1, 3, 5],\n",
    "             #\"bootstrap\":[True, False],\n",
    "             \"criterion\": [\"gini\", \"entropy\"]}\n",
    "Shuffle_cv = StratifiedShuffleSplit(test_size=0.2, random_state=42)\n",
    "scorer = make_scorer(accuracy_score)\n",
    "gridCV = GridSearchCV(clf, param_dist, scoring=score, cv=Shuffle_cv)"
   ]
  },
  {
   "cell_type": "code",
   "execution_count": null,
   "metadata": {},
   "outputs": [],
   "source": [
    "from time import time\n",
    "start = time()\n",
    "grid_fit = gridCV.fit(X_train, y_train)\n",
    "print(\"GridSearchCV took %.2f seconds for 576 candidates\"\n",
    "      \" parameter settings.\" % ((time() - start)))\n",
    "report(grid_fit.cv_results_)\n",
    "best_clf = grid_fit.best_estimator_"
   ]
  },
  {
   "cell_type": "code",
   "execution_count": null,
   "metadata": {},
   "outputs": [],
   "source": [
    "# introducing randomized search CV\n",
    "from sklearn.model_selection import RandomizedSearchCV\n",
    "from scipy.stats import randint as sp_randint\n",
    "clf = RandomForestClassifier(n_estimators=100)\n",
    "# specify parameters and distributions to sample from\n",
    "param_dist = {\"max_depth\": [3, None],\n",
    "              \"max_features\": sp_randint(1, 11),\n",
    "              \"min_samples_split\": sp_randint(2, 11),\n",
    "              \"min_samples_leaf\": sp_randint(1, 11),\n",
    "              \"bootstrap\": [True, False],\n",
    "              \"criterion\": [\"gini\", \"entropy\"]}"
   ]
  },
  {
   "cell_type": "code",
   "execution_count": null,
   "metadata": {},
   "outputs": [],
   "source": [
    "# run randomized search\n",
    "n_iter_search = 40\n",
    "random_search = RandomizedSearchCV(clf, param_distributions=param_dist,\n",
    "                                   n_iter=n_iter_search)"
   ]
  },
  {
   "cell_type": "code",
   "execution_count": null,
   "metadata": {},
   "outputs": [],
   "source": [
    "# Utility function to report best scores\n",
    "def report(results, n_top=3):\n",
    "    for i in range(1, n_top + 1):\n",
    "        candidates = np.flatnonzero(results['rank_test_score'] == i)\n",
    "        for candidate in candidates:\n",
    "            print(\"Model with rank: {0}\".format(i))\n",
    "            print(\"Mean validation score: {0:.3f} (std: {1:.3f})\".format(\n",
    "                  results['mean_test_score'][candidate],\n",
    "                  results['std_test_score'][candidate]))\n",
    "            print(\"Parameters: {0}\".format(results['params'][candidate]))\n",
    "            print(\"\")"
   ]
  },
  {
   "cell_type": "code",
   "execution_count": null,
   "metadata": {},
   "outputs": [],
   "source": [
    "from time import time\n",
    "start = time()\n",
    "random_search.fit(x, labels)\n",
    "print(\"RandomizedSearchCV took %.2f seconds for %d candidates\"\n",
    "      \" parameter settings.\" % ((time() - start), n_iter_search))\n",
    "report(random_search.cv_results_)"
   ]
  },
  {
   "cell_type": "code",
   "execution_count": null,
   "metadata": {},
   "outputs": [],
   "source": [
    "# Getting the output\n",
    "pred_y = random_search.predict(testing_data)\n",
    "cat_pred_y = LEncoder.inverse_transform(pred_y)\n",
    "print(cat_pred_y[0])"
   ]
  },
  {
   "cell_type": "code",
   "execution_count": null,
   "metadata": {},
   "outputs": [],
   "source": [
    "# output into a submission file\n",
    "output_df = pd.DataFrame({'status_group':cat_pred_y}, index=test_features.id)\n",
    "output_df.to_csv('submissionFile.csv')"
   ]
  },
  {
   "cell_type": "code",
   "execution_count": null,
   "metadata": {},
   "outputs": [],
   "source": []
  }
 ],
 "metadata": {
  "kernelspec": {
   "display_name": "Python 3",
   "language": "python",
   "name": "python3"
  },
  "language_info": {
   "codemirror_mode": {
    "name": "ipython",
    "version": 3
   },
   "file_extension": ".py",
   "mimetype": "text/x-python",
   "name": "python",
   "nbconvert_exporter": "python",
   "pygments_lexer": "ipython3",
   "version": "3.5.4"
  }
 },
 "nbformat": 4,
 "nbformat_minor": 2
}
